{
  "nbformat": 4,
  "nbformat_minor": 0,
  "metadata": {
    "colab": {
      "provenance": []
    },
    "kernelspec": {
      "name": "python3",
      "display_name": "Python 3"
    },
    "language_info": {
      "name": "python"
    }
  },
  "cells": [
    {
      "cell_type": "markdown",
      "source": [
        "#Homework on data visualization:\n",
        "\n",
        "**Objective**\n",
        "Analyze and visualize vaccination data to understand global vaccination trends and the contribution of different manufacturers.\n",
        "\n",
        "\n",
        "**Instructions**\n",
        "\n",
        "**1. Load the Data:**\n",
        "\n",
        "**dataset link**:https://www.kaggle.com/datasets/gpreda/covid-world-vaccination-progress?select=country_vaccinations.csv\n",
        "\n",
        "Import the two datasets into Python using pandas.\n",
        "\n",
        "Familiarize yourself with the datasets by exploring the columns and data types.\n",
        "\n",
        "**2. Data Cleaning:**\n",
        "\n",
        "Handle missing values (if any).\n",
        "\n",
        "Convert date columns into proper datetime formats.\n",
        "\n",
        "Check for duplicates and remove them if necessary.\n",
        "\n",
        "**3. Exploratory Data Analysis (EDA):**\n",
        "\n",
        "\n",
        "**From country_vaccinations.csv:**\n",
        "\n",
        "Identify the top 5 countries with the highest total vaccinations.\n",
        "\n",
        "Analyze the trend of vaccinations over time for any one country of your choice.\n",
        "\n",
        "**From country_vaccinations_by_manufacturer.csv:**\n",
        "\n",
        "Compare the total vaccines supplied by different manufacturers globally.\n",
        "\n",
        "Determine the top manufacturer for a selected country.\n",
        "\n",
        "**4. Visualizations: Create the following visualizations:**\n",
        "\n",
        "**Global Overview: **\n",
        "A bar chart showing the top 5 countries by total vaccinations.\n",
        "\n",
        "A pie chart showing the distribution of vaccines by manufacturer.\n",
        "\n",
        "**Trend Analysis:**\n",
        "\n",
        "A line chart showing the trend of vaccinations over time for a selected country.\n",
        "\n",
        "**Manufacturer Insights:**\n",
        "\n",
        "A stacked bar chart comparing manufacturers' contributions in multiple countries.\n"
      ],
      "metadata": {
        "id": "m_gBTFOnhYEv"
      }
    },
    {
      "cell_type": "code",
      "execution_count": null,
      "metadata": {
        "id": "4-2dbmKThXi0"
      },
      "outputs": [],
      "source": []
    }
  ]
}