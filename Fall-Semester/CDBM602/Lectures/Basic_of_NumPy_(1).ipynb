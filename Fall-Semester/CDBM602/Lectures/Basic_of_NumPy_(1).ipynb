{
  "nbformat": 4,
  "nbformat_minor": 0,
  "metadata": {
    "kernelspec": {
      "display_name": "Python 3",
      "language": "python",
      "name": "python3"
    },
    "language_info": {
      "codemirror_mode": {
        "name": "ipython",
        "version": 3
      },
      "file_extension": ".py",
      "mimetype": "text/x-python",
      "name": "python",
      "nbconvert_exporter": "python",
      "pygments_lexer": "ipython3",
      "version": "3.6.9"
    },
    "colab": {
      "provenance": []
    }
  },
  "cells": [
    {
      "cell_type": "markdown",
      "metadata": {
        "id": "Iwi4_HsL0yyR"
      },
      "source": [
        "\n",
        "# NumPy\n",
        "\n",
        "numpy's main object is called an ndarray.  It is:\n",
        "\n",
        "1. multidimensional\n",
        "2. homogenous\n",
        "3. array\n",
        "\n",
        "Meaning, it is a table elements, usually numbers.  All elements are the same type.  Elements are accessed by a tuple of positive integers.\n",
        "\n",
        "Dimensions are called axes.\n",
        "The number of axes is the rank.\n",
        "\n",
        "Book ref: https://learning.oreilly.com/library/view/python-data-science/9781491912126/ch02.html#broadcasting-in-practice"
      ]
    },
    {
      "cell_type": "code",
      "metadata": {
        "id": "yosOgI0n0yyb",
        "outputId": "0edc18ad-a58a-4d94-98f2-62b561c19dfd",
        "colab": {
          "base_uri": "https://localhost:8080/"
        }
      },
      "source": [
        "import numpy as np\n",
        "\n",
        "t = np.array([1,2,3])\n",
        "\n",
        "print(t)"
      ],
      "execution_count": null,
      "outputs": [
        {
          "output_type": "stream",
          "name": "stdout",
          "text": [
            "[1 2 3]\n"
          ]
        }
      ]
    },
    {
      "cell_type": "code",
      "metadata": {
        "id": "JM10XGl70yye",
        "outputId": "5e6478c8-0752-4596-8832-302386ad9974",
        "colab": {
          "base_uri": "https://localhost:8080/"
        }
      },
      "source": [
        "#no of dimension\n",
        "np.ndim(t)"
      ],
      "execution_count": null,
      "outputs": [
        {
          "output_type": "execute_result",
          "data": {
            "text/plain": [
              "1"
            ]
          },
          "metadata": {},
          "execution_count": 3
        }
      ]
    },
    {
      "cell_type": "code",
      "metadata": {
        "id": "sNBzdp6X0yyf",
        "outputId": "0a242e4a-7374-440c-bcdf-3a93cacde72d",
        "colab": {
          "base_uri": "https://localhost:8080/"
        }
      },
      "source": [
        "a = np.array(np.arange(15).reshape(3,5))\n",
        "print(a)"
      ],
      "execution_count": null,
      "outputs": [
        {
          "output_type": "stream",
          "name": "stdout",
          "text": [
            "[[ 0  1  2  3  4]\n",
            " [ 5  6  7  8  9]\n",
            " [10 11 12 13 14]]\n"
          ]
        }
      ]
    },
    {
      "cell_type": "code",
      "metadata": {
        "id": "KnzYZOk-0yyf",
        "outputId": "461eb176-326a-49a2-c7de-7721e20ac941",
        "colab": {
          "base_uri": "https://localhost:8080/"
        }
      },
      "source": [
        "np.ndim(a)"
      ],
      "execution_count": null,
      "outputs": [
        {
          "output_type": "execute_result",
          "data": {
            "text/plain": [
              "2"
            ]
          },
          "metadata": {},
          "execution_count": 5
        }
      ]
    },
    {
      "cell_type": "code",
      "metadata": {
        "id": "myhXywVv0yyg",
        "outputId": "676a6803-443c-4138-f9e6-be825ca2e50f",
        "colab": {
          "base_uri": "https://localhost:8080/"
        }
      },
      "source": [
        "a.shape"
      ],
      "execution_count": null,
      "outputs": [
        {
          "output_type": "execute_result",
          "data": {
            "text/plain": [
              "(3, 5)"
            ]
          },
          "metadata": {},
          "execution_count": 6
        }
      ]
    },
    {
      "cell_type": "code",
      "metadata": {
        "id": "4patiBUP0yyh",
        "outputId": "e9114c09-4066-4659-bccf-6eec3bfedab1",
        "colab": {
          "base_uri": "https://localhost:8080/"
        }
      },
      "source": [
        "a.ndim"
      ],
      "execution_count": null,
      "outputs": [
        {
          "output_type": "execute_result",
          "data": {
            "text/plain": [
              "2"
            ]
          },
          "metadata": {},
          "execution_count": 7
        }
      ]
    },
    {
      "cell_type": "code",
      "metadata": {
        "id": "PhKOgOWB0yyh",
        "outputId": "dbce428d-acaf-42dc-89dc-417e83c722de",
        "colab": {
          "base_uri": "https://localhost:8080/",
          "height": 35
        }
      },
      "source": [
        "a.dtype.name"
      ],
      "execution_count": null,
      "outputs": [
        {
          "output_type": "execute_result",
          "data": {
            "text/plain": [
              "'int64'"
            ],
            "application/vnd.google.colaboratory.intrinsic+json": {
              "type": "string"
            }
          },
          "metadata": {},
          "execution_count": 8
        }
      ]
    },
    {
      "cell_type": "code",
      "metadata": {
        "id": "TZkwSnYe0yyi",
        "outputId": "7d89c4ab-42ea-4dca-d078-e30d7eea4787",
        "colab": {
          "base_uri": "https://localhost:8080/"
        }
      },
      "source": [
        "#size in bytes\n",
        "a.itemsize"
      ],
      "execution_count": null,
      "outputs": [
        {
          "output_type": "execute_result",
          "data": {
            "text/plain": [
              "8"
            ]
          },
          "metadata": {},
          "execution_count": 9
        }
      ]
    },
    {
      "cell_type": "code",
      "metadata": {
        "id": "0N-D7zch0yyj",
        "outputId": "8069a7c0-ed4f-41c1-dea1-aabea3898a17",
        "colab": {
          "base_uri": "https://localhost:8080/"
        }
      },
      "source": [
        "a.size"
      ],
      "execution_count": null,
      "outputs": [
        {
          "output_type": "execute_result",
          "data": {
            "text/plain": [
              "15"
            ]
          },
          "metadata": {},
          "execution_count": 10
        }
      ]
    },
    {
      "cell_type": "code",
      "metadata": {
        "id": "vkoBJlQn0yyj",
        "outputId": "34dde50d-9566-46e2-c0d9-dfff5e85d5f5",
        "colab": {
          "base_uri": "https://localhost:8080/"
        }
      },
      "source": [
        "type(a)"
      ],
      "execution_count": null,
      "outputs": [
        {
          "output_type": "execute_result",
          "data": {
            "text/plain": [
              "numpy.ndarray"
            ]
          },
          "metadata": {},
          "execution_count": 11
        }
      ]
    },
    {
      "cell_type": "markdown",
      "metadata": {
        "id": "tgYOF9JE0yyk"
      },
      "source": [
        "We have three ways to access \"row\" 1 of a"
      ]
    },
    {
      "cell_type": "code",
      "metadata": {
        "id": "irvr6Zjn0yyk",
        "outputId": "0e784e35-3492-4f21-ce60-ef2d2ba02154",
        "colab": {
          "base_uri": "https://localhost:8080/"
        }
      },
      "source": [
        "a[1]"
      ],
      "execution_count": null,
      "outputs": [
        {
          "output_type": "execute_result",
          "data": {
            "text/plain": [
              "array([5, 6, 7, 8, 9])"
            ]
          },
          "metadata": {},
          "execution_count": 12
        }
      ]
    },
    {
      "cell_type": "code",
      "metadata": {
        "id": "KVC_ncPi0yyk",
        "outputId": "25f38f02-0b97-4e36-a1e1-b9541dcd6a33",
        "colab": {
          "base_uri": "https://localhost:8080/"
        }
      },
      "source": [
        "a[1,]"
      ],
      "execution_count": null,
      "outputs": [
        {
          "output_type": "execute_result",
          "data": {
            "text/plain": [
              "array([5, 6, 7, 8, 9])"
            ]
          },
          "metadata": {},
          "execution_count": 13
        }
      ]
    },
    {
      "cell_type": "code",
      "metadata": {
        "id": "zOyo40kM0yyl",
        "outputId": "51b006f3-e6f8-4303-f619-ae0dc78a5688",
        "colab": {
          "base_uri": "https://localhost:8080/"
        }
      },
      "source": [
        "a[1,:]"
      ],
      "execution_count": null,
      "outputs": [
        {
          "output_type": "execute_result",
          "data": {
            "text/plain": [
              "array([5, 6, 7, 8, 9])"
            ]
          },
          "metadata": {},
          "execution_count": 14
        }
      ]
    },
    {
      "cell_type": "markdown",
      "metadata": {
        "id": "ogMS2guq0yyl"
      },
      "source": [
        "To get column in postiion 2:"
      ]
    },
    {
      "cell_type": "code",
      "metadata": {
        "id": "bziuhXkI0yym",
        "outputId": "4acbb34c-c39d-4502-bf0a-400705bd37d1",
        "colab": {
          "base_uri": "https://localhost:8080/"
        }
      },
      "source": [
        "a[:,2]"
      ],
      "execution_count": null,
      "outputs": [
        {
          "output_type": "execute_result",
          "data": {
            "text/plain": [
              "array([ 2,  7, 12])"
            ]
          },
          "metadata": {},
          "execution_count": 15
        }
      ]
    },
    {
      "cell_type": "markdown",
      "metadata": {
        "id": "QESc2Zpn0yym"
      },
      "source": [
        "To get a single element in \"row\" 0, \"column\" 2"
      ]
    },
    {
      "cell_type": "code",
      "metadata": {
        "id": "tLpGbpj40yyn",
        "outputId": "14c8b87e-d25b-4e29-8e2f-fd66597602ae",
        "colab": {
          "base_uri": "https://localhost:8080/"
        }
      },
      "source": [
        "a[0,2]"
      ],
      "execution_count": null,
      "outputs": [
        {
          "output_type": "execute_result",
          "data": {
            "text/plain": [
              "2"
            ]
          },
          "metadata": {},
          "execution_count": 16
        }
      ]
    },
    {
      "cell_type": "markdown",
      "metadata": {
        "id": "bBWymbBh0yyn"
      },
      "source": [
        "Creating and modifying an array:"
      ]
    },
    {
      "cell_type": "code",
      "metadata": {
        "id": "u872Bw3l0yyo",
        "outputId": "2ddc9484-ecc3-4743-815e-8d829c186589",
        "colab": {
          "base_uri": "https://localhost:8080/",
          "height": 35
        }
      },
      "source": [
        "c = np.array([2,3,4])\n",
        "c.dtype.name"
      ],
      "execution_count": null,
      "outputs": [
        {
          "output_type": "execute_result",
          "data": {
            "text/plain": [
              "'int64'"
            ],
            "application/vnd.google.colaboratory.intrinsic+json": {
              "type": "string"
            }
          },
          "metadata": {},
          "execution_count": 17
        }
      ]
    },
    {
      "cell_type": "code",
      "metadata": {
        "id": "pNFaFkWt0yyo",
        "outputId": "0a2ef263-f872-4e4a-f2a5-2e014200b367",
        "colab": {
          "base_uri": "https://localhost:8080/",
          "height": 35
        }
      },
      "source": [
        "d = np.array([1.2,2.3,3.4])\n",
        "d.dtype.name\n"
      ],
      "execution_count": null,
      "outputs": [
        {
          "output_type": "execute_result",
          "data": {
            "text/plain": [
              "'float64'"
            ],
            "application/vnd.google.colaboratory.intrinsic+json": {
              "type": "string"
            }
          },
          "metadata": {},
          "execution_count": 18
        }
      ]
    },
    {
      "cell_type": "markdown",
      "metadata": {
        "id": "yN3tJi7i0yyo"
      },
      "source": [
        "Let's change one element of c:"
      ]
    },
    {
      "cell_type": "code",
      "metadata": {
        "id": "cBE7Kfzy0yyp",
        "outputId": "35e23302-b0aa-417a-be8f-4a47602b1cdc",
        "colab": {
          "base_uri": "https://localhost:8080/",
          "height": 35
        }
      },
      "source": [
        "c[1] = 4.5\n",
        "c.dtype.name"
      ],
      "execution_count": null,
      "outputs": [
        {
          "output_type": "execute_result",
          "data": {
            "text/plain": [
              "'int64'"
            ],
            "application/vnd.google.colaboratory.intrinsic+json": {
              "type": "string"
            }
          },
          "metadata": {},
          "execution_count": 19
        }
      ]
    },
    {
      "cell_type": "markdown",
      "metadata": {
        "id": "1hb_1DG90yyp"
      },
      "source": [
        "Note that the type didn't change"
      ]
    },
    {
      "cell_type": "code",
      "metadata": {
        "id": "K_2tfY3S0yyp",
        "outputId": "62fcea2c-698e-4ccf-97a2-e6806c744a8b",
        "colab": {
          "base_uri": "https://localhost:8080/"
        }
      },
      "source": [
        "print(c)"
      ],
      "execution_count": null,
      "outputs": [
        {
          "output_type": "stream",
          "name": "stdout",
          "text": [
            "[2 4 4]\n"
          ]
        }
      ]
    },
    {
      "cell_type": "markdown",
      "metadata": {
        "id": "2V6ssY-A0yyq"
      },
      "source": [
        "The value was added but was converted to an int64 - be careful - type matters!\n",
        "\n",
        "NumPy interprets a sequence of sequences as a 2D array.  A sequence of sequence of sequences as a 3D array - etc"
      ]
    },
    {
      "cell_type": "code",
      "metadata": {
        "id": "f5TMegSG0yyq",
        "outputId": "a9e9022f-c8b6-4fb9-f54d-7496a38b0067",
        "colab": {
          "base_uri": "https://localhost:8080/"
        }
      },
      "source": [
        "g = np.array([[1,2,3], [4,5,6]])\n",
        "print(g)"
      ],
      "execution_count": null,
      "outputs": [
        {
          "output_type": "stream",
          "name": "stdout",
          "text": [
            "[[1 2 3]\n",
            " [4 5 6]]\n"
          ]
        }
      ]
    },
    {
      "cell_type": "markdown",
      "metadata": {
        "id": "MC4rG1UF0yyr"
      },
      "source": [
        "Remember c from above?  Here is how we can change from integers to floats:"
      ]
    },
    {
      "cell_type": "code",
      "metadata": {
        "id": "ztpb7xlQ0yyr",
        "outputId": "8a9eaa25-3c5e-47f7-90a9-9d1ee47e5517",
        "colab": {
          "base_uri": "https://localhost:8080/"
        }
      },
      "source": [
        "print(c)\n",
        "c = np.array(c, dtype = float)\n",
        "print(c)\n",
        "c[1] = 4.5\n",
        "print(c)"
      ],
      "execution_count": null,
      "outputs": [
        {
          "output_type": "stream",
          "name": "stdout",
          "text": [
            "[2 4 4]\n",
            "[2. 4. 4.]\n",
            "[2.  4.5 4. ]\n"
          ]
        }
      ]
    },
    {
      "cell_type": "markdown",
      "metadata": {
        "id": "1Kn4OTIC0yyr"
      },
      "source": [
        "Suppose you want to fill an array with all zeros or 1 (this is a suprisingly common task in data science)"
      ]
    },
    {
      "cell_type": "code",
      "metadata": {
        "id": "HII_cQZM0yys",
        "outputId": "49e408d5-f594-4dc7-c5f4-4d2e9bb04e4d",
        "colab": {
          "base_uri": "https://localhost:8080/"
        }
      },
      "source": [
        "np.zeros((3,4))"
      ],
      "execution_count": null,
      "outputs": [
        {
          "output_type": "execute_result",
          "data": {
            "text/plain": [
              "array([[0., 0., 0., 0.],\n",
              "       [0., 0., 0., 0.],\n",
              "       [0., 0., 0., 0.]])"
            ]
          },
          "metadata": {},
          "execution_count": 23
        }
      ]
    },
    {
      "cell_type": "code",
      "metadata": {
        "id": "3KZEgXYy0yys",
        "outputId": "8419c36b-ebb9-454b-88dd-ddf615507484",
        "colab": {
          "base_uri": "https://localhost:8080/"
        }
      },
      "source": [
        "np.zeros((3,4), dtype = int)"
      ],
      "execution_count": null,
      "outputs": [
        {
          "output_type": "execute_result",
          "data": {
            "text/plain": [
              "array([[0, 0, 0, 0],\n",
              "       [0, 0, 0, 0],\n",
              "       [0, 0, 0, 0]])"
            ]
          },
          "metadata": {},
          "execution_count": 24
        }
      ]
    },
    {
      "cell_type": "code",
      "metadata": {
        "id": "_GRq-9tw0yys",
        "outputId": "13d4f3f3-4bf3-4bde-9ec6-b8bf95546e72",
        "colab": {
          "base_uri": "https://localhost:8080/"
        }
      },
      "source": [
        "np.ones((2,3,4), dtype = np.int16)"
      ],
      "execution_count": null,
      "outputs": [
        {
          "output_type": "execute_result",
          "data": {
            "text/plain": [
              "array([[[1, 1, 1, 1],\n",
              "        [1, 1, 1, 1],\n",
              "        [1, 1, 1, 1]],\n",
              "\n",
              "       [[1, 1, 1, 1],\n",
              "        [1, 1, 1, 1],\n",
              "        [1, 1, 1, 1]]], dtype=int16)"
            ]
          },
          "metadata": {},
          "execution_count": 25
        }
      ]
    },
    {
      "cell_type": "markdown",
      "metadata": {
        "id": "fCuiBzlr0yyt"
      },
      "source": [
        "Similar to the range funtion in the standard python library NumPy has arange.  It allows us to create an array containing a range of numbers evenly spaced."
      ]
    },
    {
      "cell_type": "code",
      "metadata": {
        "id": "MTSAazLM0yyt",
        "outputId": "907b0d7c-2d39-4a08-a8e9-20bc42c7f564",
        "colab": {
          "base_uri": "https://localhost:8080/"
        }
      },
      "source": [
        "np.arange(10,30,5) #start, stop, step"
      ],
      "execution_count": null,
      "outputs": [
        {
          "output_type": "execute_result",
          "data": {
            "text/plain": [
              "array([10, 15, 20, 25])"
            ]
          },
          "metadata": {},
          "execution_count": 26
        }
      ]
    },
    {
      "cell_type": "code",
      "metadata": {
        "id": "Egi7U1980yyt",
        "outputId": "54108d0f-6bc3-4c42-d987-39e07a5bb2a7",
        "colab": {
          "base_uri": "https://localhost:8080/"
        }
      },
      "source": [
        "np.arange(0.3, 1.5, 0.1)"
      ],
      "execution_count": null,
      "outputs": [
        {
          "output_type": "execute_result",
          "data": {
            "text/plain": [
              "array([0.3, 0.4, 0.5, 0.6, 0.7, 0.8, 0.9, 1. , 1.1, 1.2, 1.3, 1.4])"
            ]
          },
          "metadata": {},
          "execution_count": 27
        }
      ]
    },
    {
      "cell_type": "markdown",
      "metadata": {
        "id": "3RjKQqaE05mI"
      },
      "source": [
        "Exercise 1: Create a 4X2 integer array and Prints its attributes\n",
        "* The shape of an array.\n",
        "* Array dimensions.\n",
        "* The Length of each element of the array in bytes.\n",
        "\n",
        "Save your code and output as a screenshot named numpy1.jpeg\n",
        "\n",
        "\n"
      ]
    },
    {
      "cell_type": "code",
      "metadata": {
        "id": "9fYgfC2x1RKV"
      },
      "source": [],
      "execution_count": null,
      "outputs": []
    },
    {
      "cell_type": "markdown",
      "metadata": {
        "id": "wtRT4aO_16x1"
      },
      "source": [
        "Exercise 2: Following is the given numpy array return array of odd rows and even columns"
      ]
    },
    {
      "cell_type": "code",
      "metadata": {
        "id": "iHX-1Tpq2ECR",
        "outputId": "baa02903-4a96-4192-d4cb-de9a1d0b603f",
        "colab": {
          "base_uri": "https://localhost:8080/"
        }
      },
      "source": [
        "\n",
        "sampleArray = np.array([[3 ,6, 9, 12], [15 ,18, 21, 24],\n",
        "[27 ,30, 33, 36], [39 ,42, 45, 48], [51 ,54, 57, 60]])\n",
        "print(\"Printing Input Array\")\n",
        "print(sampleArray)\n",
        "\n"
      ],
      "execution_count": null,
      "outputs": [
        {
          "output_type": "stream",
          "name": "stdout",
          "text": [
            "Printing Input Array\n",
            "[[ 3  6  9 12]\n",
            " [15 18 21 24]\n",
            " [27 30 33 36]\n",
            " [39 42 45 48]\n",
            " [51 54 57 60]]\n"
          ]
        }
      ]
    },
    {
      "cell_type": "markdown",
      "metadata": {
        "id": "tjrpwUd02PUk"
      },
      "source": []
    }
  ]
}