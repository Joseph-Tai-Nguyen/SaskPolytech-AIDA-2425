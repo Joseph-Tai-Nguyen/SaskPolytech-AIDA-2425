{
 "cells": [
  {
   "cell_type": "markdown",
   "id": "ddc51377",
   "metadata": {
    "id": "ddc51377"
   },
   "source": [
    "# Practice Questions\n",
    "\n",
    "**1 | Write a program to enter 2 numbers from user and print addition, subtraction, multiplication and division of them.**"
   ]
  },
  {
   "cell_type": "code",
   "execution_count": null,
   "id": "01f34b9a",
   "metadata": {
    "colab": {
     "base_uri": "https://localhost:8080/"
    },
    "executionInfo": {
     "elapsed": 8163,
     "status": "ok",
     "timestamp": 1694202250326,
     "user": {
      "displayName": "Himanshu Patel",
      "userId": "04463614651384156337"
     },
     "user_tz": 360
    },
    "id": "01f34b9a",
    "outputId": "69aa0917-e1a3-45b0-efdc-aca0219ba202"
   },
   "outputs": [
    {
     "name": "stdout",
     "output_type": "stream",
     "text": [
      "Enter a number: 5\n",
      "Enter a number: 6\n",
      "Addition = 11\n",
      "Subtraction = -1\n",
      "Multiplication = 30\n",
      "Division = 0.8333333333333334\n"
     ]
    }
   ],
   "source": [
    "a = int(input(\"Enter a number: \"))\n",
    "b = int(input(\"Enter a number: \"))\n",
    "\n",
    "c =\n",
    "print(\"Addition =\", a+b)\n",
    "\n",
    "c = a - b\n",
    "print(\"Subtraction =\", c)\n",
    "\n",
    "c = a * b\n",
    "print(\"Multiplication =\", c)\n",
    "\n",
    "\n",
    "c = a / b\n",
    "print(\"Division =\", c)"
   ]
  },
  {
   "cell_type": "markdown",
   "id": "5819ca25",
   "metadata": {
    "id": "5819ca25"
   },
   "source": [
    "**2 | Write a program to enter length of a square and print area of it.**"
   ]
  },
  {
   "cell_type": "code",
   "execution_count": null,
   "id": "81f94ab4",
   "metadata": {
    "colab": {
     "base_uri": "https://localhost:8080/"
    },
    "executionInfo": {
     "elapsed": 3578,
     "status": "ok",
     "timestamp": 1694202253892,
     "user": {
      "displayName": "Himanshu Patel",
      "userId": "04463614651384156337"
     },
     "user_tz": 360
    },
    "id": "81f94ab4",
    "outputId": "45c5e9dd-47cd-49a2-f215-bb27761b2ca1"
   },
   "outputs": [
    {
     "name": "stdout",
     "output_type": "stream",
     "text": [
      "Enter length of the square side:5\n",
      "Area of square= 25\n"
     ]
    }
   ],
   "source": [
    "x = int(input(\"Enter length of the square side:\"))\n",
    "\n",
    "area = x * x   # x ** 2\n",
    "\n",
    "print(\"Area of square=\", area)"
   ]
  },
  {
   "cell_type": "markdown",
   "id": "a705ca10",
   "metadata": {
    "id": "a705ca10"
   },
   "source": [
    "**3 | Write a program to enter radius of a circle from user and print area of it.**"
   ]
  },
  {
   "cell_type": "code",
   "execution_count": null,
   "id": "90f42901",
   "metadata": {
    "colab": {
     "base_uri": "https://localhost:8080/"
    },
    "executionInfo": {
     "elapsed": 2420,
     "status": "ok",
     "timestamp": 1694202256300,
     "user": {
      "displayName": "Himanshu Patel",
      "userId": "04463614651384156337"
     },
     "user_tz": 360
    },
    "id": "90f42901",
    "outputId": "978bdccf-94f8-4cab-8f2d-87fbcd9e936b"
   },
   "outputs": [
    {
     "name": "stdout",
     "output_type": "stream",
     "text": [
      "Enter radius: 6\n",
      "Area of circle = 113.03999999999999\n"
     ]
    }
   ],
   "source": [
    "r = float(input(\"Enter radius: \"))\n",
    "\n",
    "pi = 3.14\n",
    "\n",
    "area = pi * r * r\n",
    "\n",
    "print(\"Area of circle =\", area)"
   ]
  },
  {
   "cell_type": "markdown",
   "id": "97fba734",
   "metadata": {
    "id": "97fba734"
   },
   "source": [
    "**4 | Write a program to enter the name from user and greet them.**"
   ]
  },
  {
   "cell_type": "code",
   "execution_count": null,
   "id": "3e063e96",
   "metadata": {
    "colab": {
     "base_uri": "https://localhost:8080/"
    },
    "executionInfo": {
     "elapsed": 9243,
     "status": "ok",
     "timestamp": 1694202265536,
     "user": {
      "displayName": "Himanshu Patel",
      "userId": "04463614651384156337"
     },
     "user_tz": 360
    },
    "id": "3e063e96",
    "outputId": "9a3c6775-a644-4206-bd78-621ca73f178f"
   },
   "outputs": [
    {
     "name": "stdout",
     "output_type": "stream",
     "text": [
      "Enter your name: patel\n",
      "Hello, How are you?  patel\n"
     ]
    }
   ],
   "source": [
    "name = input(\"Enter your name: \")\n",
    "\n",
    "print(\"Hello, How are you? \", name)"
   ]
  },
  {
   "cell_type": "markdown",
   "id": "74fac927",
   "metadata": {
    "id": "74fac927"
   },
   "source": [
    "**5 | Write a program to print the following stairs**"
   ]
  },
  {
   "cell_type": "code",
   "execution_count": null,
   "id": "f758ca36",
   "metadata": {
    "id": "f758ca36"
   },
   "outputs": [],
   "source": [
    "_\n",
    " |_\n",
    "   |_\n",
    "     |"
   ]
  },
  {
   "cell_type": "code",
   "execution_count": null,
   "id": "2980c676",
   "metadata": {
    "colab": {
     "base_uri": "https://localhost:8080/"
    },
    "executionInfo": {
     "elapsed": 209,
     "status": "ok",
     "timestamp": 1694202271182,
     "user": {
      "displayName": "Himanshu Patel",
      "userId": "04463614651384156337"
     },
     "user_tz": 360
    },
    "id": "2980c676",
    "outputId": "36540f6d-8a50-4795-bae5-34a0b12c16cb"
   },
   "outputs": [
    {
     "name": "stdout",
     "output_type": "stream",
     "text": [
      "_\n",
      " |_\n",
      "   |_\n",
      "     |\n"
     ]
    }
   ],
   "source": [
    "print(\"_\\n |_\\n   |_\\n     |\")"
   ]
  }
 ],
 "metadata": {
  "colab": {
   "provenance": []
  },
  "kernelspec": {
   "display_name": "Python 3 (ipykernel)",
   "language": "python",
   "name": "python3"
  },
  "language_info": {
   "codemirror_mode": {
    "name": "ipython",
    "version": 3
   },
   "file_extension": ".py",
   "mimetype": "text/x-python",
   "name": "python",
   "nbconvert_exporter": "python",
   "pygments_lexer": "ipython3",
   "version": "3.12.4"
  }
 },
 "nbformat": 4,
 "nbformat_minor": 5
}
