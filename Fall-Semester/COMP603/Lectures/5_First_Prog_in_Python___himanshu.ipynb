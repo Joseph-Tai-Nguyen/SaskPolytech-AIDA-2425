{
  "cells": [
    {
      "cell_type": "markdown",
      "source": [
        "himanshu patel"
      ],
      "metadata": {
        "id": "rXUCvaPVI94T"
      },
      "id": "rXUCvaPVI94T"
    },
    {
      "cell_type": "markdown",
      "id": "8205f44d",
      "metadata": {
        "id": "8205f44d"
      },
      "source": [
        "# First Program in Python\n",
        "\n",
        "**Write a program to enter 2 numbers from user and print addition of them**"
      ]
    },
    {
      "cell_type": "code",
      "execution_count": null,
      "id": "f67bb325",
      "metadata": {
        "id": "f67bb325"
      },
      "outputs": [],
      "source": [
        "a = input(\"Enter 1st Number: \")\n",
        "b = input(\"Enter 2nd Number: \")\n",
        "\n",
        "c = a + b\n",
        "\n",
        "print(c)"
      ]
    },
    {
      "cell_type": "code",
      "execution_count": null,
      "id": "92d08572",
      "metadata": {
        "id": "92d08572"
      },
      "outputs": [],
      "source": [
        "print(type(a))"
      ]
    },
    {
      "cell_type": "code",
      "execution_count": null,
      "id": "c0a80669",
      "metadata": {
        "id": "c0a80669"
      },
      "outputs": [],
      "source": [
        "a = int(input(\"Enter 1st Number: \"))\n",
        "b = int(input(\"Enter 2nd Number: \"))\n",
        "\n",
        "c = a + b\n",
        "\n",
        "print(c)"
      ]
    },
    {
      "cell_type": "code",
      "execution_count": null,
      "id": "5fc10126",
      "metadata": {
        "colab": {
          "base_uri": "https://localhost:8080/"
        },
        "id": "5fc10126",
        "outputId": "fd1c431f-9095-49b5-ca17-60051ce2532e"
      },
      "outputs": [
        {
          "output_type": "stream",
          "name": "stdout",
          "text": [
            "Enter 1st Number: 6\n",
            "Enter 2nd Number: 5\n",
            "Addition = 11\n"
          ]
        }
      ],
      "source": [
        "a = int(input(\"Enter 1st Number: \"))\n",
        "b = int(input(\"Enter 2nd Number: \"))\n",
        "\n",
        "c = a + b\n",
        "\n",
        "print(\"Addition =\",c)"
      ]
    }
  ],
  "metadata": {
    "kernelspec": {
      "display_name": "Python 3 (ipykernel)",
      "language": "python",
      "name": "python3"
    },
    "language_info": {
      "codemirror_mode": {
        "name": "ipython",
        "version": 3
      },
      "file_extension": ".py",
      "mimetype": "text/x-python",
      "name": "python",
      "nbconvert_exporter": "python",
      "pygments_lexer": "ipython3",
      "version": "3.9.12"
    },
    "colab": {
      "provenance": []
    }
  },
  "nbformat": 4,
  "nbformat_minor": 5
}