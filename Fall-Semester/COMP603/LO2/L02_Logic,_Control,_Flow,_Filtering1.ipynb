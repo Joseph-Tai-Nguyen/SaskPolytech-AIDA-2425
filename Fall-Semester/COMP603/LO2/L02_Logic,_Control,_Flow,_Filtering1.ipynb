{
  "nbformat": 4,
  "nbformat_minor": 0,
  "metadata": {
    "kernelspec": {
      "display_name": "Python 3",
      "language": "python",
      "name": "python3"
    },
    "language_info": {
      "codemirror_mode": {
        "name": "ipython",
        "version": 3
      },
      "file_extension": ".py",
      "mimetype": "text/x-python",
      "name": "python",
      "nbconvert_exporter": "python",
      "pygments_lexer": "ipython3",
      "version": "3.6.9"
    },
    "colab": {
      "provenance": []
    }
  },
  "cells": [
    {
      "cell_type": "markdown",
      "metadata": {
        "id": "0bNcFFhxrJaP"
      },
      "source": [
        "# Learning Outcome 2"
      ]
    },
    {
      "cell_type": "markdown",
      "source": [
        "[Python Guide](https://cs.stanford.edu/people/nick/py/python-var.html)"
      ],
      "metadata": {
        "id": "QVMWCuKol6jA"
      }
    },
    {
      "cell_type": "markdown",
      "metadata": {
        "id": "3JsoFw1irJaW"
      },
      "source": [
        "# Variables\n",
        "A Python variable is a named bit of computer memory, keeping track of a value as the code runs.\n",
        "\n",
        "A variable in Python is a name that is attaches to something - a number, a string, or something more complicated like an object or a type.\n",
        "\n",
        "You can think varible is a box which can contains a value. You can access the value in the box by the name of the box.\n",
        "\n",
        "Python is dynamically typed, which means that once a variable is declared it can can hold different types of data over it's lifespan.\n",
        "\n",
        "A variable is declared using the = operator."
      ]
    },
    {
      "cell_type": "code",
      "source": [],
      "metadata": {
        "id": "F2jx7vJWyXUP"
      },
      "execution_count": null,
      "outputs": []
    },
    {
      "cell_type": "code",
      "source": [
        "'1' + '2'"
      ],
      "metadata": {
        "colab": {
          "base_uri": "https://localhost:8080/",
          "height": 35
        },
        "id": "07Tf-McJyX7V",
        "outputId": "b0951864-e9f0-48bc-f37c-b55843693fa6"
      },
      "execution_count": null,
      "outputs": [
        {
          "output_type": "execute_result",
          "data": {
            "text/plain": [
              "'12'"
            ],
            "application/vnd.google.colaboratory.intrinsic+json": {
              "type": "string"
            }
          },
          "metadata": {},
          "execution_count": 3
        }
      ]
    },
    {
      "cell_type": "code",
      "source": [
        "print(1 + 2)"
      ],
      "metadata": {
        "colab": {
          "base_uri": "https://localhost:8080/"
        },
        "id": "UdXgPwVHyi2T",
        "outputId": "137c23ad-631d-4b34-be41-f24826371bc0"
      },
      "execution_count": null,
      "outputs": [
        {
          "output_type": "stream",
          "name": "stdout",
          "text": [
            "3\n"
          ]
        }
      ]
    },
    {
      "cell_type": "code",
      "metadata": {
        "id": "LQrZ3viMrJaX",
        "colab": {
          "base_uri": "https://localhost:8080/"
        },
        "outputId": "4a42f9c9-7652-4985-cded-bb37419f0954"
      },
      "source": [
        "x = 2\n",
        "print(x)\n",
        "x = x + 5\n",
        "print(x)\n"
      ],
      "execution_count": null,
      "outputs": [
        {
          "output_type": "stream",
          "name": "stdout",
          "text": [
            "2\n",
            "7\n"
          ]
        }
      ]
    },
    {
      "cell_type": "markdown",
      "source": [
        "# Naming Rules\n",
        "\n",
        "*   Names are case sensitive and cannot start with a number.\n",
        "*   They can contain letters, numbers, and underscores.\n",
        "* bob, Bob, _bob,  _2bob\n",
        "\n",
        "\n",
        "* Can not use reserved words: for, if, print, try....\n",
        "\n"
      ],
      "metadata": {
        "id": "4lducE_wnW7f"
      }
    },
    {
      "cell_type": "markdown",
      "metadata": {
        "id": "fxtaDR0BrJaZ"
      },
      "source": [
        "We can also assign variables with some fancy shortcuts"
      ]
    },
    {
      "cell_type": "code",
      "source": [
        "_1X = 10\n",
        "x1 = 20\n",
        "print(X1)\n",
        "print(x1)\n",
        "print(_1X)"
      ],
      "metadata": {
        "colab": {
          "base_uri": "https://localhost:8080/"
        },
        "id": "EqHgJ8xJzJSp",
        "outputId": "3a94805f-cc1c-4e59-c68f-e626e4ab4b84"
      },
      "execution_count": null,
      "outputs": [
        {
          "output_type": "stream",
          "name": "stdout",
          "text": [
            "10\n",
            "20\n",
            "10\n"
          ]
        }
      ]
    },
    {
      "cell_type": "code",
      "metadata": {
        "id": "-HwDWuMNrJaa",
        "colab": {
          "base_uri": "https://localhost:8080/"
        },
        "outputId": "a27d55f1-7888-4ed9-c379-096f954134b4"
      },
      "source": [
        "a = b = c = 0\n",
        "\n",
        "\n",
        "print(a)\n",
        "print(b)\n",
        "print(c)\n",
        "\n",
        "x,y = 1,2\n",
        "print(x)\n",
        "print(y)\n",
        "\n",
        "x,y = y,x\n",
        "print(x)\n",
        "print(y)"
      ],
      "execution_count": null,
      "outputs": [
        {
          "output_type": "stream",
          "name": "stdout",
          "text": [
            "0\n",
            "0\n",
            "0\n",
            "1\n",
            "2\n",
            "2\n",
            "1\n"
          ]
        }
      ]
    },
    {
      "cell_type": "markdown",
      "metadata": {
        "id": "-Ed8YQu9rJaa"
      },
      "source": [
        "# Variables In Class Exercise\n",
        "\n",
        "1. Save a copy of your favourite colour in a variable.  Print that variable 10 times.\n",
        "\n",
        "2. Ask your neighbour what their favourite colour is (or just picking another colour works!).  Save it in a variable.  Now you have two variables. Concatenate them together and print the result 100 times\n",
        "\n",
        "3. Use the \"fast swapping (x,y = y,x)\" to swap your colour with your neighbours. Print each variable.  Are you happy with the result?"
      ]
    },
    {
      "cell_type": "code",
      "source": [
        "x = 'red'\n",
        "y = 'green'\n"
      ],
      "metadata": {
        "id": "xswkqamx5pNZ"
      },
      "execution_count": null,
      "outputs": []
    },
    {
      "cell_type": "markdown",
      "source": [],
      "metadata": {
        "id": "zpZpTXC25xSG"
      }
    },
    {
      "cell_type": "code",
      "source": [],
      "metadata": {
        "id": "4UQeifE35w7U"
      },
      "execution_count": null,
      "outputs": []
    },
    {
      "cell_type": "code",
      "source": [],
      "metadata": {
        "id": "8bZBl72R5v6k"
      },
      "execution_count": null,
      "outputs": []
    },
    {
      "cell_type": "code",
      "metadata": {
        "id": "ZYjTFrewrJab",
        "colab": {
          "base_uri": "https://localhost:8080/"
        },
        "outputId": "6575eecc-9fb2-470b-d013-3887bb48b442"
      },
      "source": [
        "#This cell is for preforming the exercise, please submit a screenshot of your code and it's output.  Name the screenshot variables.jpeg\n",
        "# Save a copy of your favourite colour in a variable and print it 10 times\n",
        "your_favourite_colour = \"blue\"\n",
        "print(your_favourite_colour * 10)\n",
        "\n",
        "# Ask your neighbour for their favourite colour and save it in a variable\n",
        "neighbour_favourite_colour = input(\"What is your neighbour's favourite colour? \")\n",
        "\n",
        "# Concatenate the two colours and print the result 100 times\n",
        "combined_colours = your_favourite_colour + neighbour_favourite_colour\n",
        "print(combined_colours * 100)\n",
        "\n",
        "# Use fast swapping to swap your colour with your neighbour's\n",
        "your_favourite_colour, neighbour_favourite_colour = neighbour_favourite_colour, your_favourite_colour\n",
        "\n",
        "# Print the result after swapping\n",
        "print(\"Your favourite colour:\", your_favourite_colour)\n",
        "print(\"Neighbour's favourite colour:\", neighbour_favourite_colour)\n",
        "\n",
        "# Check if you are happy with the result\n",
        "if your_favourite_colour == \"blue\" and neighbour_favourite_colour == combined_colours[:len(neighbour_favourite_colour)]:\n",
        "    print(\"You are happy with the result!\")\n",
        "else:\n",
        "    print(\"You are not happy with the result.\")\n",
        "\n"
      ],
      "execution_count": null,
      "outputs": [
        {
          "output_type": "stream",
          "name": "stdout",
          "text": [
            "blueblueblueblueblueblueblueblueblueblue\n",
            "What is your neighbour's favourite colour? red\n",
            "blueredblueredblueredblueredblueredblueredblueredblueredblueredblueredblueredblueredblueredblueredblueredblueredblueredblueredblueredblueredblueredblueredblueredblueredblueredblueredblueredblueredblueredblueredblueredblueredblueredblueredblueredblueredblueredblueredblueredblueredblueredblueredblueredblueredblueredblueredblueredblueredblueredblueredblueredblueredblueredblueredblueredblueredblueredblueredblueredblueredblueredblueredblueredblueredblueredblueredblueredblueredblueredblueredblueredblueredblueredblueredblueredblueredblueredblueredblueredblueredblueredblueredblueredblueredblueredblueredblueredblueredblueredblueredblueredblueredblueredblueredblueredblueredblueredblueredblueredbluered\n",
            "Your favourite colour: red\n",
            "Neighbour's favourite colour: blue\n",
            "You are not happy with the result.\n"
          ]
        }
      ]
    },
    {
      "cell_type": "code",
      "source": [
        "print('datacamp','tutorial','on','python','print','function',sep='\\n\\n')\n"
      ],
      "metadata": {
        "colab": {
          "base_uri": "https://localhost:8080/"
        },
        "id": "cZatzl70D-r-",
        "outputId": "5f161b65-c1e7-49f1-bc3c-f12fe1b32685"
      },
      "execution_count": null,
      "outputs": [
        {
          "output_type": "stream",
          "name": "stdout",
          "text": [
            "datacamp\n",
            "\n",
            "tutorial\n",
            "\n",
            "on\n",
            "\n",
            "python\n",
            "\n",
            "print\n",
            "\n",
            "function\n"
          ]
        }
      ]
    },
    {
      "cell_type": "markdown",
      "source": [
        "# Numbers - int and float\n",
        "\n",
        "[Python Math](https://cs.stanford.edu/people/nick/py/python-math.html)\n",
        "\n",
        "There are two distinct types of numbers for doing arithmetic in a computer - int for whole integer numbers like 6 and 42 and -3, and float for numbers like 3.14 with a decimal fraction.\n",
        "\n",
        "# Add Subtract Multiply Divide + - * /\n",
        "\n",
        "Addition, subtraction, and multiplication and division work the usual way with the operators: + - * /.\n",
        "\n",
        "Division by zero is an error.\n",
        "\n",
        "# Precedence\n",
        "\n",
        "Just as in regular mathematics, multiplication and division have higher \"precedence\" than addition and subtraction, so they are evaluated first in an expression.\n",
        "\n",
        "After accounting for precedence, the arithmetic is done left-to-right.\n",
        "\n",
        "e.g. here the multiplication happens first, then the addition:\n",
        "\n",
        "\n",
        "```\n",
        ">>> 1 + 2 * 3\n",
        "7\n",
        ">>> 1 + 3 * 3 + 1\n",
        "11\n",
        "\n",
        "```\n",
        "\n"
      ],
      "metadata": {
        "id": "Uz6oI09Skmk8"
      }
    },
    {
      "cell_type": "code",
      "source": [
        "(1 + 3) * 3 + 1"
      ],
      "metadata": {
        "colab": {
          "base_uri": "https://localhost:8080/"
        },
        "id": "Z3scyq7XFLqu",
        "outputId": "06ec8d7e-f908-4cab-dd10-241acd4a12ed"
      },
      "execution_count": 60,
      "outputs": [
        {
          "output_type": "execute_result",
          "data": {
            "text/plain": [
              "13"
            ]
          },
          "metadata": {},
          "execution_count": 60
        }
      ]
    },
    {
      "cell_type": "markdown",
      "source": [],
      "metadata": {
        "id": "5_t3ru1GlpBB"
      }
    },
    {
      "cell_type": "markdown",
      "source": [
        "If an expression mixes **an int value with a float value**, like **26 + 2.0**, the int value is converted to a float at that point, and the math proceeds with float values.\n",
        "\n",
        "This one-way street is called **promotion** from int to float."
      ],
      "metadata": {
        "id": "hd_TzV8p6QwL"
      }
    },
    {
      "cell_type": "code",
      "source": [
        "60 / 2 * 3, 60 / (2 * 3)"
      ],
      "metadata": {
        "colab": {
          "base_uri": "https://localhost:8080/"
        },
        "id": "IzThL8lV5SXV",
        "outputId": "2d404c09-3afc-44f1-b134-c93e13ecb845"
      },
      "execution_count": 61,
      "outputs": [
        {
          "output_type": "execute_result",
          "data": {
            "text/plain": [
              "(90.0, 10.0)"
            ]
          },
          "metadata": {},
          "execution_count": 61
        }
      ]
    },
    {
      "cell_type": "code",
      "source": [
        "60 // 2 * 3"
      ],
      "metadata": {
        "colab": {
          "base_uri": "https://localhost:8080/"
        },
        "id": "VuoJ4uW05Wc1",
        "outputId": "122dce97-4ddc-4824-e756-2df72ed27897"
      },
      "execution_count": 2,
      "outputs": [
        {
          "output_type": "execute_result",
          "data": {
            "text/plain": [
              "90"
            ]
          },
          "metadata": {},
          "execution_count": 2
        }
      ]
    },
    {
      "cell_type": "markdown",
      "source": [
        "Converting from float to int\n",
        "The int() function drops the fractional part of a float number, essentially always rounding towards 0.\n",
        "\n",
        "## When a number is exactly halfway between two integers, it rounds to the nearest even number."
      ],
      "metadata": {
        "id": "3O2UCC4G6wGH"
      }
    },
    {
      "cell_type": "code",
      "source": [
        "int(6.89), round (2.5), round(2.49), round(3.5), round(3.49)"
      ],
      "metadata": {
        "colab": {
          "base_uri": "https://localhost:8080/"
        },
        "id": "KAfj932f6rlz",
        "outputId": "b6d01e8d-0053-4548-d966-6c47d8d669d2"
      },
      "execution_count": 11,
      "outputs": [
        {
          "output_type": "execute_result",
          "data": {
            "text/plain": [
              "(6, 2, 2, 4, 3)"
            ]
          },
          "metadata": {},
          "execution_count": 11
        }
      ]
    },
    {
      "cell_type": "code",
      "source": [],
      "metadata": {
        "id": "rUQ_U0Ro6rg1"
      },
      "execution_count": null,
      "outputs": []
    },
    {
      "cell_type": "code",
      "source": [],
      "metadata": {
        "id": "wGA78IgV6rLl"
      },
      "execution_count": null,
      "outputs": []
    },
    {
      "cell_type": "markdown",
      "metadata": {
        "id": "d_C_Ctm4rJab"
      },
      "source": [
        "# Functions\n",
        "\n",
        "## Python comes with a bunch of built in functions such as..."
      ]
    },
    {
      "cell_type": "code",
      "metadata": {
        "id": "b6ioEbldrJac",
        "colab": {
          "base_uri": "https://localhost:8080/"
        },
        "outputId": "f90192bb-a1e4-4d7c-d693-bbde4a3faef1"
      },
      "source": [
        "abs(-1)"
      ],
      "execution_count": 4,
      "outputs": [
        {
          "output_type": "execute_result",
          "data": {
            "text/plain": [
              "1"
            ]
          },
          "metadata": {},
          "execution_count": 4
        }
      ]
    },
    {
      "cell_type": "code",
      "metadata": {
        "id": "-k2DH6oFrJac",
        "colab": {
          "base_uri": "https://localhost:8080/"
        },
        "outputId": "3eb2c79c-213a-4b47-f2aa-9ce8f9344770"
      },
      "source": [
        "7 % 2 #modulo"
      ],
      "execution_count": 5,
      "outputs": [
        {
          "output_type": "execute_result",
          "data": {
            "text/plain": [
              "1"
            ]
          },
          "metadata": {},
          "execution_count": 5
        }
      ]
    },
    {
      "cell_type": "code",
      "metadata": {
        "id": "hWLWLGH8rJac",
        "colab": {
          "base_uri": "https://localhost:8080/"
        },
        "outputId": "6b738427-0e5f-40b4-b8a5-b629c3816a09"
      },
      "source": [
        "7 ** 2"
      ],
      "execution_count": null,
      "outputs": [
        {
          "output_type": "execute_result",
          "data": {
            "text/plain": [
              "49"
            ]
          },
          "metadata": {},
          "execution_count": 6
        }
      ]
    },
    {
      "cell_type": "code",
      "metadata": {
        "id": "gzADk1TBrJad",
        "colab": {
          "base_uri": "https://localhost:8080/"
        },
        "outputId": "7fa53bff-cb2c-40b2-9cea-2c2d165c1723"
      },
      "source": [
        "min(2,7)"
      ],
      "execution_count": null,
      "outputs": [
        {
          "output_type": "execute_result",
          "data": {
            "text/plain": [
              "2"
            ]
          },
          "metadata": {},
          "execution_count": 7
        }
      ]
    },
    {
      "cell_type": "code",
      "metadata": {
        "id": "6Osh-On1rJad",
        "colab": {
          "base_uri": "https://localhost:8080/"
        },
        "outputId": "b2ae6c18-d8c0-404f-f9e1-d44abb7878bc"
      },
      "source": [
        "max(2,7)"
      ],
      "execution_count": null,
      "outputs": [
        {
          "output_type": "execute_result",
          "data": {
            "text/plain": [
              "7"
            ]
          },
          "metadata": {},
          "execution_count": 8
        }
      ]
    },
    {
      "cell_type": "code",
      "metadata": {
        "id": "Dsa5qJ0srJad",
        "colab": {
          "base_uri": "https://localhost:8080/"
        },
        "outputId": "42085e81-bd2d-4452-af74-639d8ee85fe4"
      },
      "source": [
        "len(\"12345\")"
      ],
      "execution_count": null,
      "outputs": [
        {
          "output_type": "execute_result",
          "data": {
            "text/plain": [
              "5"
            ]
          },
          "metadata": {},
          "execution_count": 9
        }
      ]
    },
    {
      "cell_type": "code",
      "metadata": {
        "id": "xR6niqwtrJae",
        "colab": {
          "base_uri": "https://localhost:8080/"
        },
        "outputId": "d181a44a-edbf-4774-d3dc-cf7352a79cd9"
      },
      "source": [
        "round(1.2)"
      ],
      "execution_count": null,
      "outputs": [
        {
          "output_type": "execute_result",
          "data": {
            "text/plain": [
              "1"
            ]
          },
          "metadata": {},
          "execution_count": 10
        }
      ]
    },
    {
      "cell_type": "markdown",
      "metadata": {
        "id": "LY3R2nm8rJae"
      },
      "source": [
        "But these functions take memory (so we can't load them all at once!).  We use the import statement to load specific functions/modules."
      ]
    },
    {
      "cell_type": "code",
      "metadata": {
        "id": "GmvNH6q3rJae"
      },
      "source": [
        "import os"
      ],
      "execution_count": 62,
      "outputs": []
    },
    {
      "cell_type": "markdown",
      "metadata": {
        "id": "zx-4ASWnrJaf"
      },
      "source": [
        "This loads the os module.  A module is used to store a collection of related functions.\n",
        "\n",
        "Lets take a look at what's in os..."
      ]
    },
    {
      "cell_type": "code",
      "metadata": {
        "id": "HBrSoVq1rJaf",
        "colab": {
          "base_uri": "https://localhost:8080/"
        },
        "outputId": "73fb260b-4129-4f52-8d11-b3e922317959"
      },
      "source": [
        "dir(os)"
      ],
      "execution_count": 63,
      "outputs": [
        {
          "output_type": "execute_result",
          "data": {
            "text/plain": [
              "['CLD_CONTINUED',\n",
              " 'CLD_DUMPED',\n",
              " 'CLD_EXITED',\n",
              " 'CLD_KILLED',\n",
              " 'CLD_STOPPED',\n",
              " 'CLD_TRAPPED',\n",
              " 'DirEntry',\n",
              " 'EFD_CLOEXEC',\n",
              " 'EFD_NONBLOCK',\n",
              " 'EFD_SEMAPHORE',\n",
              " 'EX_CANTCREAT',\n",
              " 'EX_CONFIG',\n",
              " 'EX_DATAERR',\n",
              " 'EX_IOERR',\n",
              " 'EX_NOHOST',\n",
              " 'EX_NOINPUT',\n",
              " 'EX_NOPERM',\n",
              " 'EX_NOUSER',\n",
              " 'EX_OK',\n",
              " 'EX_OSERR',\n",
              " 'EX_OSFILE',\n",
              " 'EX_PROTOCOL',\n",
              " 'EX_SOFTWARE',\n",
              " 'EX_TEMPFAIL',\n",
              " 'EX_UNAVAILABLE',\n",
              " 'EX_USAGE',\n",
              " 'F_LOCK',\n",
              " 'F_OK',\n",
              " 'F_TEST',\n",
              " 'F_TLOCK',\n",
              " 'F_ULOCK',\n",
              " 'GRND_NONBLOCK',\n",
              " 'GRND_RANDOM',\n",
              " 'GenericAlias',\n",
              " 'MFD_ALLOW_SEALING',\n",
              " 'MFD_CLOEXEC',\n",
              " 'MFD_HUGETLB',\n",
              " 'MFD_HUGE_16GB',\n",
              " 'MFD_HUGE_16MB',\n",
              " 'MFD_HUGE_1GB',\n",
              " 'MFD_HUGE_1MB',\n",
              " 'MFD_HUGE_256MB',\n",
              " 'MFD_HUGE_2GB',\n",
              " 'MFD_HUGE_2MB',\n",
              " 'MFD_HUGE_32MB',\n",
              " 'MFD_HUGE_512KB',\n",
              " 'MFD_HUGE_512MB',\n",
              " 'MFD_HUGE_64KB',\n",
              " 'MFD_HUGE_8MB',\n",
              " 'MFD_HUGE_MASK',\n",
              " 'MFD_HUGE_SHIFT',\n",
              " 'Mapping',\n",
              " 'MutableMapping',\n",
              " 'NGROUPS_MAX',\n",
              " 'O_ACCMODE',\n",
              " 'O_APPEND',\n",
              " 'O_ASYNC',\n",
              " 'O_CLOEXEC',\n",
              " 'O_CREAT',\n",
              " 'O_DIRECT',\n",
              " 'O_DIRECTORY',\n",
              " 'O_DSYNC',\n",
              " 'O_EXCL',\n",
              " 'O_FSYNC',\n",
              " 'O_LARGEFILE',\n",
              " 'O_NDELAY',\n",
              " 'O_NOATIME',\n",
              " 'O_NOCTTY',\n",
              " 'O_NOFOLLOW',\n",
              " 'O_NONBLOCK',\n",
              " 'O_PATH',\n",
              " 'O_RDONLY',\n",
              " 'O_RDWR',\n",
              " 'O_RSYNC',\n",
              " 'O_SYNC',\n",
              " 'O_TMPFILE',\n",
              " 'O_TRUNC',\n",
              " 'O_WRONLY',\n",
              " 'POSIX_FADV_DONTNEED',\n",
              " 'POSIX_FADV_NOREUSE',\n",
              " 'POSIX_FADV_NORMAL',\n",
              " 'POSIX_FADV_RANDOM',\n",
              " 'POSIX_FADV_SEQUENTIAL',\n",
              " 'POSIX_FADV_WILLNEED',\n",
              " 'POSIX_SPAWN_CLOSE',\n",
              " 'POSIX_SPAWN_DUP2',\n",
              " 'POSIX_SPAWN_OPEN',\n",
              " 'PRIO_PGRP',\n",
              " 'PRIO_PROCESS',\n",
              " 'PRIO_USER',\n",
              " 'P_ALL',\n",
              " 'P_NOWAIT',\n",
              " 'P_NOWAITO',\n",
              " 'P_PGID',\n",
              " 'P_PID',\n",
              " 'P_PIDFD',\n",
              " 'P_WAIT',\n",
              " 'PathLike',\n",
              " 'RTLD_DEEPBIND',\n",
              " 'RTLD_GLOBAL',\n",
              " 'RTLD_LAZY',\n",
              " 'RTLD_LOCAL',\n",
              " 'RTLD_NODELETE',\n",
              " 'RTLD_NOLOAD',\n",
              " 'RTLD_NOW',\n",
              " 'RWF_APPEND',\n",
              " 'RWF_DSYNC',\n",
              " 'RWF_HIPRI',\n",
              " 'RWF_NOWAIT',\n",
              " 'RWF_SYNC',\n",
              " 'R_OK',\n",
              " 'SCHED_BATCH',\n",
              " 'SCHED_FIFO',\n",
              " 'SCHED_IDLE',\n",
              " 'SCHED_OTHER',\n",
              " 'SCHED_RESET_ON_FORK',\n",
              " 'SCHED_RR',\n",
              " 'SEEK_CUR',\n",
              " 'SEEK_DATA',\n",
              " 'SEEK_END',\n",
              " 'SEEK_HOLE',\n",
              " 'SEEK_SET',\n",
              " 'SPLICE_F_MORE',\n",
              " 'SPLICE_F_MOVE',\n",
              " 'SPLICE_F_NONBLOCK',\n",
              " 'ST_APPEND',\n",
              " 'ST_MANDLOCK',\n",
              " 'ST_NOATIME',\n",
              " 'ST_NODEV',\n",
              " 'ST_NODIRATIME',\n",
              " 'ST_NOEXEC',\n",
              " 'ST_NOSUID',\n",
              " 'ST_RDONLY',\n",
              " 'ST_RELATIME',\n",
              " 'ST_SYNCHRONOUS',\n",
              " 'ST_WRITE',\n",
              " 'TMP_MAX',\n",
              " 'WCONTINUED',\n",
              " 'WCOREDUMP',\n",
              " 'WEXITED',\n",
              " 'WEXITSTATUS',\n",
              " 'WIFCONTINUED',\n",
              " 'WIFEXITED',\n",
              " 'WIFSIGNALED',\n",
              " 'WIFSTOPPED',\n",
              " 'WNOHANG',\n",
              " 'WNOWAIT',\n",
              " 'WSTOPPED',\n",
              " 'WSTOPSIG',\n",
              " 'WTERMSIG',\n",
              " 'WUNTRACED',\n",
              " 'W_OK',\n",
              " 'XATTR_CREATE',\n",
              " 'XATTR_REPLACE',\n",
              " 'XATTR_SIZE_MAX',\n",
              " 'X_OK',\n",
              " '_Environ',\n",
              " '__all__',\n",
              " '__builtins__',\n",
              " '__cached__',\n",
              " '__doc__',\n",
              " '__file__',\n",
              " '__loader__',\n",
              " '__name__',\n",
              " '__package__',\n",
              " '__spec__',\n",
              " '_check_methods',\n",
              " '_execvpe',\n",
              " '_exists',\n",
              " '_exit',\n",
              " '_fspath',\n",
              " '_fwalk',\n",
              " '_get_exports_list',\n",
              " '_spawnvef',\n",
              " '_walk',\n",
              " '_wrap_close',\n",
              " 'abc',\n",
              " 'abort',\n",
              " 'access',\n",
              " 'altsep',\n",
              " 'chdir',\n",
              " 'chmod',\n",
              " 'chown',\n",
              " 'chroot',\n",
              " 'close',\n",
              " 'closerange',\n",
              " 'confstr',\n",
              " 'confstr_names',\n",
              " 'copy_file_range',\n",
              " 'cpu_count',\n",
              " 'ctermid',\n",
              " 'curdir',\n",
              " 'defpath',\n",
              " 'device_encoding',\n",
              " 'devnull',\n",
              " 'dup',\n",
              " 'dup2',\n",
              " 'environ',\n",
              " 'environb',\n",
              " 'error',\n",
              " 'eventfd',\n",
              " 'eventfd_read',\n",
              " 'eventfd_write',\n",
              " 'execl',\n",
              " 'execle',\n",
              " 'execlp',\n",
              " 'execlpe',\n",
              " 'execv',\n",
              " 'execve',\n",
              " 'execvp',\n",
              " 'execvpe',\n",
              " 'extsep',\n",
              " 'fchdir',\n",
              " 'fchmod',\n",
              " 'fchown',\n",
              " 'fdatasync',\n",
              " 'fdopen',\n",
              " 'fork',\n",
              " 'forkpty',\n",
              " 'fpathconf',\n",
              " 'fsdecode',\n",
              " 'fsencode',\n",
              " 'fspath',\n",
              " 'fstat',\n",
              " 'fstatvfs',\n",
              " 'fsync',\n",
              " 'ftruncate',\n",
              " 'fwalk',\n",
              " 'get_blocking',\n",
              " 'get_exec_path',\n",
              " 'get_inheritable',\n",
              " 'get_terminal_size',\n",
              " 'getcwd',\n",
              " 'getcwdb',\n",
              " 'getegid',\n",
              " 'getenv',\n",
              " 'getenvb',\n",
              " 'geteuid',\n",
              " 'getgid',\n",
              " 'getgrouplist',\n",
              " 'getgroups',\n",
              " 'getloadavg',\n",
              " 'getlogin',\n",
              " 'getpgid',\n",
              " 'getpgrp',\n",
              " 'getpid',\n",
              " 'getppid',\n",
              " 'getpriority',\n",
              " 'getrandom',\n",
              " 'getresgid',\n",
              " 'getresuid',\n",
              " 'getsid',\n",
              " 'getuid',\n",
              " 'getxattr',\n",
              " 'initgroups',\n",
              " 'isatty',\n",
              " 'kill',\n",
              " 'killpg',\n",
              " 'lchown',\n",
              " 'linesep',\n",
              " 'link',\n",
              " 'listdir',\n",
              " 'listxattr',\n",
              " 'lockf',\n",
              " 'lseek',\n",
              " 'lstat',\n",
              " 'major',\n",
              " 'makedev',\n",
              " 'makedirs',\n",
              " 'memfd_create',\n",
              " 'minor',\n",
              " 'mkdir',\n",
              " 'mkfifo',\n",
              " 'mknod',\n",
              " 'name',\n",
              " 'nice',\n",
              " 'open',\n",
              " 'openpty',\n",
              " 'pardir',\n",
              " 'path',\n",
              " 'pathconf',\n",
              " 'pathconf_names',\n",
              " 'pathsep',\n",
              " 'pidfd_open',\n",
              " 'pipe',\n",
              " 'pipe2',\n",
              " 'popen',\n",
              " 'posix_fadvise',\n",
              " 'posix_fallocate',\n",
              " 'posix_spawn',\n",
              " 'posix_spawnp',\n",
              " 'pread',\n",
              " 'preadv',\n",
              " 'putenv',\n",
              " 'pwrite',\n",
              " 'pwritev',\n",
              " 'read',\n",
              " 'readlink',\n",
              " 'readv',\n",
              " 'register_at_fork',\n",
              " 'remove',\n",
              " 'removedirs',\n",
              " 'removexattr',\n",
              " 'rename',\n",
              " 'renames',\n",
              " 'replace',\n",
              " 'rmdir',\n",
              " 'scandir',\n",
              " 'sched_get_priority_max',\n",
              " 'sched_get_priority_min',\n",
              " 'sched_getaffinity',\n",
              " 'sched_getparam',\n",
              " 'sched_getscheduler',\n",
              " 'sched_param',\n",
              " 'sched_rr_get_interval',\n",
              " 'sched_setaffinity',\n",
              " 'sched_setparam',\n",
              " 'sched_setscheduler',\n",
              " 'sched_yield',\n",
              " 'sendfile',\n",
              " 'sep',\n",
              " 'set_blocking',\n",
              " 'set_inheritable',\n",
              " 'setegid',\n",
              " 'seteuid',\n",
              " 'setgid',\n",
              " 'setgroups',\n",
              " 'setpgid',\n",
              " 'setpgrp',\n",
              " 'setpriority',\n",
              " 'setregid',\n",
              " 'setresgid',\n",
              " 'setresuid',\n",
              " 'setreuid',\n",
              " 'setsid',\n",
              " 'setuid',\n",
              " 'setxattr',\n",
              " 'spawnl',\n",
              " 'spawnle',\n",
              " 'spawnlp',\n",
              " 'spawnlpe',\n",
              " 'spawnv',\n",
              " 'spawnve',\n",
              " 'spawnvp',\n",
              " 'spawnvpe',\n",
              " 'splice',\n",
              " 'st',\n",
              " 'stat',\n",
              " 'stat_result',\n",
              " 'statvfs',\n",
              " 'statvfs_result',\n",
              " 'strerror',\n",
              " 'supports_bytes_environ',\n",
              " 'supports_dir_fd',\n",
              " 'supports_effective_ids',\n",
              " 'supports_fd',\n",
              " 'supports_follow_symlinks',\n",
              " 'symlink',\n",
              " 'sync',\n",
              " 'sys',\n",
              " 'sysconf',\n",
              " 'sysconf_names',\n",
              " 'system',\n",
              " 'tcgetpgrp',\n",
              " 'tcsetpgrp',\n",
              " 'terminal_size',\n",
              " 'times',\n",
              " 'times_result',\n",
              " 'truncate',\n",
              " 'ttyname',\n",
              " 'umask',\n",
              " 'uname',\n",
              " 'uname_result',\n",
              " 'unlink',\n",
              " 'unsetenv',\n",
              " 'urandom',\n",
              " 'utime',\n",
              " 'wait',\n",
              " 'wait3',\n",
              " 'wait4',\n",
              " 'waitid',\n",
              " 'waitid_result',\n",
              " 'waitpid',\n",
              " 'waitstatus_to_exitcode',\n",
              " 'walk',\n",
              " 'write',\n",
              " 'writev']"
            ]
          },
          "metadata": {},
          "execution_count": 63
        }
      ]
    },
    {
      "cell_type": "code",
      "source": [],
      "metadata": {
        "id": "4PY6vBh8__vw"
      },
      "execution_count": null,
      "outputs": []
    },
    {
      "cell_type": "code",
      "metadata": {
        "id": "5WMCz8AMrJag",
        "colab": {
          "base_uri": "https://localhost:8080/",
          "height": 35
        },
        "outputId": "7b83890c-2900-4660-bd59-f75f75f42ee8"
      },
      "source": [
        "os.name #why doesn't this require parentheses?"
      ],
      "execution_count": 64,
      "outputs": [
        {
          "output_type": "execute_result",
          "data": {
            "text/plain": [
              "'posix'"
            ],
            "application/vnd.google.colaboratory.intrinsic+json": {
              "type": "string"
            }
          },
          "metadata": {},
          "execution_count": 64
        }
      ]
    },
    {
      "cell_type": "markdown",
      "source": [
        "The os module is part of the Python standard library, and it provides a way to interact with the operating system. The os.name attribute is used to determine the name of the operating system dependent module to use.\n",
        "\n",
        "Since os.name is not a function or method but rather a constant value or attribute, you access it directly without using parentheses. If you were working with a function or method from the os module, you would use parentheses."
      ],
      "metadata": {
        "id": "o0A8_iAvCyCx"
      }
    },
    {
      "cell_type": "code",
      "metadata": {
        "id": "LilqIePXrJag",
        "colab": {
          "base_uri": "https://localhost:8080/"
        },
        "outputId": "b1619103-c290-48af-dd57-786ae51cc2c3"
      },
      "source": [
        "os.listdir()"
      ],
      "execution_count": null,
      "outputs": [
        {
          "output_type": "execute_result",
          "data": {
            "text/plain": [
              "['.config', 'sample_data']"
            ]
          },
          "metadata": {},
          "execution_count": 17
        }
      ]
    },
    {
      "cell_type": "markdown",
      "metadata": {
        "id": "u28VEGI8rJag"
      },
      "source": [
        "## What if you don't need everything in a module?\n",
        "Importing Specific Functions or Variables\n"
      ]
    },
    {
      "cell_type": "code",
      "metadata": {
        "id": "RjpHXskkrJah"
      },
      "source": [
        "import sys\n",
        "\n",
        "dir(sys)\n",
        "\n",
        "from os import listdir"
      ],
      "execution_count": 16,
      "outputs": []
    },
    {
      "cell_type": "markdown",
      "metadata": {
        "id": "QSdq_ZIJrJah"
      },
      "source": [
        "Lets talk about two more modules (for now...more on modules later in the class)"
      ]
    },
    {
      "cell_type": "code",
      "metadata": {
        "id": "1Mndswo1rJah",
        "colab": {
          "base_uri": "https://localhost:8080/"
        },
        "outputId": "6902d6cc-9912-47e4-bfd0-a4a9d60803f5"
      },
      "source": [
        "import sys\n",
        "dir(sys)"
      ],
      "execution_count": 17,
      "outputs": [
        {
          "output_type": "execute_result",
          "data": {
            "text/plain": [
              "['__breakpointhook__',\n",
              " '__displayhook__',\n",
              " '__doc__',\n",
              " '__excepthook__',\n",
              " '__interactivehook__',\n",
              " '__loader__',\n",
              " '__name__',\n",
              " '__package__',\n",
              " '__spec__',\n",
              " '__stderr__',\n",
              " '__stdin__',\n",
              " '__stdout__',\n",
              " '__unraisablehook__',\n",
              " '_base_executable',\n",
              " '_clear_type_cache',\n",
              " '_current_exceptions',\n",
              " '_current_frames',\n",
              " '_deactivate_opcache',\n",
              " '_debugmallocstats',\n",
              " '_framework',\n",
              " '_getframe',\n",
              " '_git',\n",
              " '_home',\n",
              " '_xoptions',\n",
              " 'abiflags',\n",
              " 'addaudithook',\n",
              " 'api_version',\n",
              " 'argv',\n",
              " 'audit',\n",
              " 'base_exec_prefix',\n",
              " 'base_prefix',\n",
              " 'breakpointhook',\n",
              " 'builtin_module_names',\n",
              " 'byteorder',\n",
              " 'call_tracing',\n",
              " 'copyright',\n",
              " 'displayhook',\n",
              " 'dont_write_bytecode',\n",
              " 'exc_info',\n",
              " 'excepthook',\n",
              " 'exec_prefix',\n",
              " 'executable',\n",
              " 'exit',\n",
              " 'flags',\n",
              " 'float_info',\n",
              " 'float_repr_style',\n",
              " 'get_asyncgen_hooks',\n",
              " 'get_coroutine_origin_tracking_depth',\n",
              " 'get_int_max_str_digits',\n",
              " 'getallocatedblocks',\n",
              " 'getdefaultencoding',\n",
              " 'getdlopenflags',\n",
              " 'getfilesystemencodeerrors',\n",
              " 'getfilesystemencoding',\n",
              " 'getprofile',\n",
              " 'getrecursionlimit',\n",
              " 'getrefcount',\n",
              " 'getsizeof',\n",
              " 'getswitchinterval',\n",
              " 'gettrace',\n",
              " 'hash_info',\n",
              " 'hexversion',\n",
              " 'implementation',\n",
              " 'int_info',\n",
              " 'intern',\n",
              " 'is_finalizing',\n",
              " 'maxsize',\n",
              " 'maxunicode',\n",
              " 'meta_path',\n",
              " 'modules',\n",
              " 'orig_argv',\n",
              " 'path',\n",
              " 'path_hooks',\n",
              " 'path_importer_cache',\n",
              " 'platform',\n",
              " 'platlibdir',\n",
              " 'prefix',\n",
              " 'ps1',\n",
              " 'ps2',\n",
              " 'ps3',\n",
              " 'pycache_prefix',\n",
              " 'set_asyncgen_hooks',\n",
              " 'set_coroutine_origin_tracking_depth',\n",
              " 'set_int_max_str_digits',\n",
              " 'setdlopenflags',\n",
              " 'setprofile',\n",
              " 'setrecursionlimit',\n",
              " 'setswitchinterval',\n",
              " 'settrace',\n",
              " 'stderr',\n",
              " 'stdin',\n",
              " 'stdlib_module_names',\n",
              " 'stdout',\n",
              " 'thread_info',\n",
              " 'unraisablehook',\n",
              " 'version',\n",
              " 'version_info',\n",
              " 'warnoptions']"
            ]
          },
          "metadata": {},
          "execution_count": 17
        }
      ]
    },
    {
      "cell_type": "markdown",
      "source": [
        "**sys.argv** is a list in Python that holds the command-line arguments passed to a script.\n",
        "\n",
        "It stands for \"system arguments.\" The list sys.argv contains the name of the script itself as its first element (sys.argv[0]), and the subsequent elements contain the command-line arguments."
      ],
      "metadata": {
        "id": "1ATF61fBAjoE"
      }
    },
    {
      "cell_type": "code",
      "source": [
        "import sys\n",
        "\n",
        "# Print the script name\n",
        "print(\"Script name:\", sys.argv[0])\n",
        "\n",
        "# Print command-line arguments\n",
        "print(\"Arguments:\", sys.argv[1:])\n"
      ],
      "metadata": {
        "colab": {
          "base_uri": "https://localhost:8080/"
        },
        "id": "VLEtztuZAo2-",
        "outputId": "17c80788-77b2-490e-ea02-715f815d5a83"
      },
      "execution_count": 19,
      "outputs": [
        {
          "output_type": "stream",
          "name": "stdout",
          "text": [
            "Script name: /usr/local/lib/python3.10/dist-packages/colab_kernel_launcher.py\n",
            "Arguments: ['-f', '/root/.local/share/jupyter/runtime/kernel-452dc2e8-065c-44b2-ac4d-a5689bd06736.json']\n"
          ]
        }
      ]
    },
    {
      "cell_type": "code",
      "metadata": {
        "id": "4K7q2i0brJah",
        "colab": {
          "base_uri": "https://localhost:8080/"
        },
        "outputId": "8cd24236-0c83-40f4-c635-619f68917c0d"
      },
      "source": [
        "sys.argv #this hold the command line arguments"
      ],
      "execution_count": 18,
      "outputs": [
        {
          "output_type": "execute_result",
          "data": {
            "text/plain": [
              "['/usr/local/lib/python3.10/dist-packages/colab_kernel_launcher.py',\n",
              " '-f',\n",
              " '/root/.local/share/jupyter/runtime/kernel-452dc2e8-065c-44b2-ac4d-a5689bd06736.json']"
            ]
          },
          "metadata": {},
          "execution_count": 18
        }
      ]
    },
    {
      "cell_type": "code",
      "metadata": {
        "id": "kNQKj_GKrJai",
        "colab": {
          "base_uri": "https://localhost:8080/"
        },
        "outputId": "87d21c02-c02f-434d-8c97-23af5046e6ca"
      },
      "source": [
        "import random\n",
        "random.randint(1,5)"
      ],
      "execution_count": 70,
      "outputs": [
        {
          "output_type": "execute_result",
          "data": {
            "text/plain": [
              "4"
            ]
          },
          "metadata": {},
          "execution_count": 70
        }
      ]
    },
    {
      "cell_type": "code",
      "metadata": {
        "id": "F7hocDI1rJai",
        "colab": {
          "base_uri": "https://localhost:8080/"
        },
        "outputId": "e83d3902-2f58-4364-8ac7-5dd642374013"
      },
      "source": [
        "random.random()"
      ],
      "execution_count": 69,
      "outputs": [
        {
          "output_type": "execute_result",
          "data": {
            "text/plain": [
              "0.989966132555256"
            ]
          },
          "metadata": {},
          "execution_count": 69
        }
      ]
    },
    {
      "cell_type": "code",
      "source": [
        "# use an alias to rename a module or function when importing\n",
        "import math as m\n",
        "print(m.sqrt(25))\n"
      ],
      "metadata": {
        "colab": {
          "base_uri": "https://localhost:8080/"
        },
        "id": "1HIxcanSCVa2",
        "outputId": "d60942f4-c350-46b7-972c-36fd9e7c4215"
      },
      "execution_count": 21,
      "outputs": [
        {
          "output_type": "stream",
          "name": "stdout",
          "text": [
            "5.0\n"
          ]
        }
      ]
    },
    {
      "cell_type": "markdown",
      "metadata": {
        "id": "Vi2erhZ4rJai"
      },
      "source": [
        "# Functions In Class Exercise\n",
        "\n",
        "1. Make a list of your most recent Amazon purchase prices (12.45, 167.34, 34.87, 44.67, 98.76) and store it in a variable.  Use built in functions to find the price of the cheapest and most expensive items in your list.\n",
        "\n",
        "2. Run dir(random).  Find a funtion in random you can use to return a random item from your Amazon list.  You can use help() to find out what different functions do.\n",
        "\n",
        "3.  Write code to randomly select a price from your Amazon list, round to the nearest integer and print the result.\n",
        "\n",
        "4.  Amazon is having a promotion!  They are going to use your last 5 purchase prices (your list defined in step 1) to randomly draw a price.  If the price of the item drawn is less than $20 you get to keep the item and get a refund of the purchase price.  Write the code to draw a random item from your list and the amount that Amazon owes you.\n",
        "\n"
      ]
    },
    {
      "cell_type": "code",
      "metadata": {
        "id": "ib3ZmgNgrJaj",
        "colab": {
          "base_uri": "https://localhost:8080/"
        },
        "outputId": "dbcda01e-707c-474d-e83c-765bcdbb8238"
      },
      "source": [
        "# This cell is for completion of In Class Exercises, please submit a screenshot of your code and it's output.  Name the screenshot functions.\n",
        "\n",
        "import random\n",
        "\n",
        "# Step 1: Make a list of your most recent Amazon purchase prices\n",
        "amazon_prices = [12.45, 167.34, 34.87, 44.67, 98.76]\n",
        "\n",
        "# Step 2: Use built-in functions to find the price of the cheapest and most expensive items\n",
        "cheapest_price = min(amazon_prices)\n",
        "most_expensive_price = max(amazon_prices)\n",
        "\n",
        "print(f\"Cheapest Price: ${cheapest_price}\")\n",
        "print(f\"Most Expensive Price: ${most_expensive_price}\")\n",
        "\n",
        "# Step 3: Use dir(random) to find a function to return a random item from your Amazon list\n",
        "random_price = random.choice(amazon_prices)\n",
        "rounded_random_price = round(random_price)\n",
        "\n",
        "print(f\"\\nRandomly Selected Price: ${random_price} (rounded to {rounded_random_price})\")\n",
        "\n",
        "# Step 4: Amazon promotion - Draw a random item and calculate the refund amount\n",
        "drawn_price = random.choice(amazon_prices)\n",
        "\n",
        "if drawn_price < 20:\n",
        "    refund_amount = drawn_price\n",
        "    print(f\"\\nCongratulations! You get to keep the item and get a refund of ${refund_amount}.\")\n",
        "else:\n",
        "    print(\"\\nUnfortunately, the drawn price is not less than $20. No refund for this item.\")\n",
        "\n"
      ],
      "execution_count": 12,
      "outputs": [
        {
          "output_type": "stream",
          "name": "stdout",
          "text": [
            "Cheapest Price: $12.45\n",
            "Most Expensive Price: $167.34\n",
            "\n",
            "Randomly Selected Price: $44.67 (rounded to 45)\n",
            "\n",
            "Unfortunately, the drawn price is not less than $20. No refund for this item.\n"
          ]
        }
      ]
    },
    {
      "cell_type": "markdown",
      "metadata": {
        "id": "Xtyed2AmrJaj"
      },
      "source": [
        "# User Created Functions\n",
        "\n",
        "Functions are defined with a specific syntax:\n",
        "1. Start with the keyword def\n",
        "2. Follow with a function name\n",
        "3. List of arguments enclosed in ()\n",
        "4. End with a colon :\n",
        "\n",
        "Python uses white space to determin code blocks.  Java and C for example use {} to do the same thing.\n",
        "\n",
        "To have output from the function, the return keyword is used."
      ]
    },
    {
      "cell_type": "code",
      "metadata": {
        "id": "JapH8ZWXrJak"
      },
      "source": [
        "def first_function(x):\n",
        "  return x*5"
      ],
      "execution_count": 71,
      "outputs": []
    },
    {
      "cell_type": "code",
      "metadata": {
        "id": "qRFA041brJak",
        "colab": {
          "base_uri": "https://localhost:8080/"
        },
        "outputId": "4d7e5049-83b1-457b-a046-d21d1e01405e"
      },
      "source": [
        "first_function(var)"
      ],
      "execution_count": 76,
      "outputs": [
        {
          "output_type": "execute_result",
          "data": {
            "text/plain": [
              "10"
            ]
          },
          "metadata": {},
          "execution_count": 76
        }
      ]
    },
    {
      "cell_type": "code",
      "source": [
        "var = int(input())"
      ],
      "metadata": {
        "colab": {
          "base_uri": "https://localhost:8080/"
        },
        "id": "SY71eQ7YoJeQ",
        "outputId": "f3814eb9-bd2b-400c-d438-4f6c5544d608"
      },
      "execution_count": 75,
      "outputs": [
        {
          "name": "stdout",
          "output_type": "stream",
          "text": [
            "2\n"
          ]
        }
      ]
    },
    {
      "cell_type": "code",
      "metadata": {
        "id": "RzR1S9K3rJak",
        "colab": {
          "base_uri": "https://localhost:8080/",
          "height": 35
        },
        "outputId": "69096b6d-d3bc-4b4d-d69d-08a0ed6f0138"
      },
      "source": [
        "first_function('hello world ')"
      ],
      "execution_count": 24,
      "outputs": [
        {
          "output_type": "execute_result",
          "data": {
            "text/plain": [
              "'hello world hello world hello world hello world hello world '"
            ],
            "application/vnd.google.colaboratory.intrinsic+json": {
              "type": "string"
            }
          },
          "metadata": {},
          "execution_count": 24
        }
      ]
    },
    {
      "cell_type": "markdown",
      "metadata": {
        "id": "1T63wg0hrJal"
      },
      "source": [
        "Lets try it again with a new function..."
      ]
    },
    {
      "cell_type": "code",
      "metadata": {
        "id": "1Y9GxRAFrJal"
      },
      "source": [
        "def mult(a, b):\n",
        "    return a * b"
      ],
      "execution_count": 78,
      "outputs": []
    },
    {
      "cell_type": "code",
      "metadata": {
        "id": "tLvmsXbcrJal",
        "colab": {
          "base_uri": "https://localhost:8080/"
        },
        "outputId": "4962ee55-5174-40fd-dd82-dc7a5ce2bab7"
      },
      "source": [
        "mult(5, 6)"
      ],
      "execution_count": 79,
      "outputs": [
        {
          "output_type": "execute_result",
          "data": {
            "text/plain": [
              "30"
            ]
          },
          "metadata": {},
          "execution_count": 79
        }
      ]
    },
    {
      "cell_type": "code",
      "metadata": {
        "id": "pUaydTmVrJam",
        "colab": {
          "base_uri": "https://localhost:8080/",
          "height": 35
        },
        "outputId": "c624e616-564b-400d-f410-0b62830d0b22"
      },
      "source": [
        "mult(31,'a')"
      ],
      "execution_count": 82,
      "outputs": [
        {
          "output_type": "execute_result",
          "data": {
            "text/plain": [
              "'aaaaaaaaaaaaaaaaaaaaaaaaaaaaaaa'"
            ],
            "application/vnd.google.colaboratory.intrinsic+json": {
              "type": "string"
            }
          },
          "metadata": {},
          "execution_count": 82
        }
      ]
    },
    {
      "cell_type": "code",
      "metadata": {
        "id": "5SoOT762rJam",
        "colab": {
          "base_uri": "https://localhost:8080/"
        },
        "outputId": "61f340af-cb91-4ac8-e7f7-e68096f054a1"
      },
      "source": [
        "mult"
      ],
      "execution_count": 83,
      "outputs": [
        {
          "output_type": "execute_result",
          "data": {
            "text/plain": [
              "<function __main__.mult(a, b)>"
            ]
          },
          "metadata": {},
          "execution_count": 83
        }
      ]
    },
    {
      "cell_type": "markdown",
      "metadata": {
        "id": "rYsMuR33rJam"
      },
      "source": [
        "Don't forget function names are variables too!"
      ]
    },
    {
      "cell_type": "code",
      "metadata": {
        "id": "omvfsBYRrJam"
      },
      "source": [
        "x = mult"
      ],
      "execution_count": 84,
      "outputs": []
    },
    {
      "cell_type": "code",
      "metadata": {
        "id": "7xiWKb4zrJan",
        "colab": {
          "base_uri": "https://localhost:8080/"
        },
        "outputId": "e7403e4b-2e12-46ec-8eff-6b2f8ca2e568"
      },
      "source": [
        "print(x)"
      ],
      "execution_count": 85,
      "outputs": [
        {
          "output_type": "stream",
          "name": "stdout",
          "text": [
            "<function mult at 0x7c5cdcf06050>\n"
          ]
        }
      ]
    },
    {
      "cell_type": "code",
      "metadata": {
        "id": "D8pFEQJcrJan",
        "colab": {
          "base_uri": "https://localhost:8080/"
        },
        "outputId": "b25077ce-f083-4531-fd2c-1811ebcb2d38"
      },
      "source": [
        "x(2,3)"
      ],
      "execution_count": null,
      "outputs": [
        {
          "output_type": "execute_result",
          "data": {
            "text/plain": [
              "6"
            ]
          },
          "metadata": {},
          "execution_count": 35
        }
      ]
    },
    {
      "cell_type": "code",
      "metadata": {
        "id": "U0VoYfkVrJan"
      },
      "source": [
        "mult = 7"
      ],
      "execution_count": null,
      "outputs": []
    },
    {
      "cell_type": "code",
      "metadata": {
        "id": "sXjmntbBrJao",
        "colab": {
          "base_uri": "https://localhost:8080/"
        },
        "outputId": "477e83fe-d9a1-4d0d-f665-6ff498d7d139"
      },
      "source": [
        "print(mult)"
      ],
      "execution_count": null,
      "outputs": [
        {
          "output_type": "stream",
          "name": "stdout",
          "text": [
            "7\n"
          ]
        }
      ]
    },
    {
      "cell_type": "code",
      "metadata": {
        "scrolled": true,
        "id": "hpWSw5yjrJao",
        "colab": {
          "base_uri": "https://localhost:8080/"
        },
        "outputId": "8f377f78-2486-4aea-b917-598d8490fcb6"
      },
      "source": [
        "mult(2,3)"
      ],
      "execution_count": 29,
      "outputs": [
        {
          "output_type": "execute_result",
          "data": {
            "text/plain": [
              "6"
            ]
          },
          "metadata": {},
          "execution_count": 29
        }
      ]
    },
    {
      "cell_type": "code",
      "source": [
        "def all_the_colours(colour, spacer, num):\n",
        "    print((colour + spacer) * num)\n",
        ""
      ],
      "metadata": {
        "id": "n2PT2ksnC62R"
      },
      "execution_count": 118,
      "outputs": []
    },
    {
      "cell_type": "code",
      "source": [
        "def all_the_colours(colour, spacer, num):\n",
        "    str1 = (colour + spacer) * num\n",
        "    return str1"
      ],
      "metadata": {
        "id": "HQc0YB63Dxqr"
      },
      "execution_count": 120,
      "outputs": []
    },
    {
      "cell_type": "code",
      "source": [
        "print(all_the_colours('blue ', '|',3))"
      ],
      "metadata": {
        "colab": {
          "base_uri": "https://localhost:8080/"
        },
        "id": "JgfBj9a3D8cV",
        "outputId": "36e507ea-ede5-4ac9-c2f7-e6fa328fa3c5"
      },
      "execution_count": 121,
      "outputs": [
        {
          "output_type": "stream",
          "name": "stdout",
          "text": [
            "blue |blue |blue |\n"
          ]
        }
      ]
    },
    {
      "cell_type": "code",
      "source": [
        "all_the_colours('blue ', '|',3)"
      ],
      "metadata": {
        "colab": {
          "base_uri": "https://localhost:8080/"
        },
        "id": "8swXGuHVDGFE",
        "outputId": "3e5c2663-1354-4596-834a-8cf03f200f4e"
      },
      "execution_count": 119,
      "outputs": [
        {
          "output_type": "stream",
          "name": "stdout",
          "text": [
            "blue |blue |blue |\n"
          ]
        }
      ]
    },
    {
      "cell_type": "markdown",
      "metadata": {
        "id": "Q_5n_BsmrJao"
      },
      "source": [
        "# User Created Function In Class Exercise\n",
        "\n",
        "1. Write an all_the_colours function that takes a colour (string) and uses the * operator to print it out 100 times.  What happens when you enter a number into your function?\n",
        "\n",
        "2. Rewrite all_the_colour to take an additional arguement called spacer.  Use the + operator to combine the colour and spacer before multiplying.\n",
        "\n",
        "3. Modify all_the_colours to take an extra argument called num which dicates the number of times the colour and spacer are multiplied together.\n",
        "\n",
        "4. Use the return function inside of all_the_colours to return the output to a variable instead of directly outputing to the screen.  Print the variable."
      ]
    },
    {
      "cell_type": "code",
      "metadata": {
        "id": "9Sx_iyaXrJap"
      },
      "source": [
        "# This cell is for the User Created Function In Class Exercise, please submit a screenshot of your code and it's output.  Name the screenshot user_created_functions.jpeg"
      ],
      "execution_count": null,
      "outputs": []
    },
    {
      "cell_type": "code",
      "metadata": {
        "id": "k3TBzksMjNeN",
        "colab": {
          "base_uri": "https://localhost:8080/"
        },
        "outputId": "8e43e4d0-9600-4ad0-b401-be37316b5d63"
      },
      "source": [
        "def all_the_colours(colour, spacer, num):\n",
        "    result = (colour + spacer) * num\n",
        "    return result\n",
        "\n",
        "# Test the function with a string\n",
        "color_string = \"blue\"\n",
        "spacer_string = \"|\"\n",
        "repeat_count = 100\n",
        "\n",
        "# Call the function and print the result\n",
        "output_result = all_the_colours(color_string, spacer_string, repeat_count)\n",
        "print(output_result)\n",
        "\n",
        "# Test the function with a number\n",
        "number_input = 5\n",
        "# This will raise a TypeError since you can't multiply a string by a number directly\n",
        "# Uncomment the line below to see the error\n",
        "# all_the_colours(number_input, spacer_string, repeat_count)\n"
      ],
      "execution_count": 30,
      "outputs": [
        {
          "output_type": "stream",
          "name": "stdout",
          "text": [
            "blue|blue|blue|blue|blue|blue|blue|blue|blue|blue|blue|blue|blue|blue|blue|blue|blue|blue|blue|blue|blue|blue|blue|blue|blue|blue|blue|blue|blue|blue|blue|blue|blue|blue|blue|blue|blue|blue|blue|blue|blue|blue|blue|blue|blue|blue|blue|blue|blue|blue|blue|blue|blue|blue|blue|blue|blue|blue|blue|blue|blue|blue|blue|blue|blue|blue|blue|blue|blue|blue|blue|blue|blue|blue|blue|blue|blue|blue|blue|blue|blue|blue|blue|blue|blue|blue|blue|blue|blue|blue|blue|blue|blue|blue|blue|blue|blue|blue|blue|blue|\n"
          ]
        }
      ]
    },
    {
      "cell_type": "code",
      "source": [
        "# What is wrong with the code?\n",
        "n = 10\n",
        "i = 10\n",
        "\n",
        "while i > 0:\n",
        "    print(i)\n",
        "    if i % 2 == 0:\n",
        "        i = i / 2\n",
        "    else:\n",
        "        i = i + 1\n",
        "        if i==2:\n",
        "          break"
      ],
      "metadata": {
        "colab": {
          "base_uri": "https://localhost:8080/"
        },
        "id": "iVPkuh9CAe2o",
        "outputId": "10c12878-d264-4056-a5c1-fd72d2fb1cff"
      },
      "execution_count": 123,
      "outputs": [
        {
          "output_type": "stream",
          "name": "stdout",
          "text": [
            "10\n",
            "5.0\n",
            "6.0\n",
            "3.0\n",
            "4.0\n",
            "2.0\n",
            "1.0\n"
          ]
        }
      ]
    },
    {
      "cell_type": "markdown",
      "source": [
        "## Default Values for arguments"
      ],
      "metadata": {
        "id": "41H3bp7UGxEL"
      }
    },
    {
      "cell_type": "code",
      "metadata": {
        "id": "cYXThQh4jQcw"
      },
      "source": [
        "def myfun(b, c = 3, d = 'hello'):\n",
        "  print(b,c)\n",
        "  return b+c\n",
        "  # The keyword 'return' indicates the value to be sent back to the caller.\n",
        "  # Functions without a 'return' return the special value None."
      ],
      "execution_count": 91,
      "outputs": []
    },
    {
      "cell_type": "code",
      "source": [
        "myfun(c = 1, b = 2)"
      ],
      "metadata": {
        "colab": {
          "base_uri": "https://localhost:8080/"
        },
        "id": "MBb3yA6GqURs",
        "outputId": "ed6bb52d-3435-4799-ec2a-6fda306d72b6"
      },
      "execution_count": 92,
      "outputs": [
        {
          "output_type": "stream",
          "name": "stdout",
          "text": [
            "2 1\n"
          ]
        },
        {
          "output_type": "execute_result",
          "data": {
            "text/plain": [
              "3"
            ]
          },
          "metadata": {},
          "execution_count": 92
        }
      ]
    },
    {
      "cell_type": "code",
      "source": [
        "myfun(5,13, 'hello')"
      ],
      "metadata": {
        "colab": {
          "base_uri": "https://localhost:8080/"
        },
        "id": "lLji58tEGj-1",
        "outputId": "8b95b2dc-f968-428b-860a-c07a01221140"
      },
      "execution_count": 88,
      "outputs": [
        {
          "output_type": "execute_result",
          "data": {
            "text/plain": [
              "18"
            ]
          },
          "metadata": {},
          "execution_count": 88
        }
      ]
    },
    {
      "cell_type": "code",
      "source": [
        "myfun(5)"
      ],
      "metadata": {
        "colab": {
          "base_uri": "https://localhost:8080/"
        },
        "id": "vxkRkfZRGoAp",
        "outputId": "78c7abfa-10c6-4975-d746-eddfdb690be1"
      },
      "execution_count": 35,
      "outputs": [
        {
          "output_type": "execute_result",
          "data": {
            "text/plain": [
              "8"
            ]
          },
          "metadata": {},
          "execution_count": 35
        }
      ]
    },
    {
      "cell_type": "markdown",
      "source": [
        "## Keyword Arguments"
      ],
      "metadata": {
        "id": "x-v8Kj21Hnef"
      }
    },
    {
      "cell_type": "code",
      "source": [
        "def foo (x, y, z):\n",
        "  return (2 * x, 4 * y, 8 * z)"
      ],
      "metadata": {
        "id": "IrJqzllvHr-f"
      },
      "execution_count": 93,
      "outputs": []
    },
    {
      "cell_type": "code",
      "source": [
        "foo(z = 3, y=2, x = 1)"
      ],
      "metadata": {
        "colab": {
          "base_uri": "https://localhost:8080/"
        },
        "id": "eJ94IedZH2Jd",
        "outputId": "e0628933-f8ba-47ea-e1c4-e640f73e4f23"
      },
      "execution_count": 37,
      "outputs": [
        {
          "output_type": "execute_result",
          "data": {
            "text/plain": [
              "(2, 8, 24)"
            ]
          },
          "metadata": {},
          "execution_count": 37
        }
      ]
    },
    {
      "cell_type": "markdown",
      "source": [
        "## Lambda Notation\n",
        "\n",
        "Lambda creates anonymous functions"
      ],
      "metadata": {
        "id": "PelQjT8CKFAd"
      }
    },
    {
      "cell_type": "code",
      "source": [
        "f = lambda x, y : 2 * x + y\n"
      ],
      "metadata": {
        "id": "JGgwAWqzH2EO"
      },
      "execution_count": 94,
      "outputs": []
    },
    {
      "cell_type": "code",
      "source": [
        "f(1,2), f(1.0, 2)"
      ],
      "metadata": {
        "colab": {
          "base_uri": "https://localhost:8080/"
        },
        "id": "Kv0YRe6gKdp3",
        "outputId": "f2c3ebda-0f33-4899-a23c-165a42137b10"
      },
      "execution_count": 95,
      "outputs": [
        {
          "output_type": "execute_result",
          "data": {
            "text/plain": [
              "(4, 4.0)"
            ]
          },
          "metadata": {},
          "execution_count": 95
        }
      ]
    },
    {
      "cell_type": "code",
      "source": [
        "def foo (x, y):\n",
        "  x = x - y\n",
        "  return x + 1\n",
        "\n",
        "\n",
        "def caller():\n",
        "  x = 2\n",
        "  y = 3\n",
        "  z = foo(y,x)\n",
        "  print(x, y, z)\n",
        "\n",
        "\n"
      ],
      "metadata": {
        "id": "Ot-HzztlH15N"
      },
      "execution_count": 96,
      "outputs": []
    },
    {
      "cell_type": "code",
      "source": [
        "caller()"
      ],
      "metadata": {
        "colab": {
          "base_uri": "https://localhost:8080/"
        },
        "id": "kbvhv1ETM9c8",
        "outputId": "e5ce6c32-cbd7-4af1-abdb-09613789363c"
      },
      "execution_count": 55,
      "outputs": [
        {
          "output_type": "stream",
          "name": "stdout",
          "text": [
            "2 3 2\n"
          ]
        }
      ]
    },
    {
      "cell_type": "markdown",
      "metadata": {
        "id": "17qRu0lQrJap"
      },
      "source": [
        "The input function is the quickest way to get data accessed from stdin (user input).  It takes an optional string argument that is the promt to be issued to the user.  It always returns a string."
      ]
    },
    {
      "cell_type": "code",
      "metadata": {
        "id": "hJeByfG3rJap",
        "colab": {
          "base_uri": "https://localhost:8080/"
        },
        "outputId": "0d08382e-4a59-450f-80fe-01f732175cd7"
      },
      "source": [
        "a = input(\"Please enter your name:\")"
      ],
      "execution_count": 31,
      "outputs": [
        {
          "name": "stdout",
          "output_type": "stream",
          "text": [
            "Please enter your name:hy\n"
          ]
        }
      ]
    },
    {
      "cell_type": "code",
      "metadata": {
        "id": "dpDSa_y6rJaq",
        "colab": {
          "base_uri": "https://localhost:8080/"
        },
        "outputId": "55a55c5c-33e2-4c79-d995-a22abd18a59f"
      },
      "source": [
        "print(a)"
      ],
      "execution_count": 32,
      "outputs": [
        {
          "output_type": "stream",
          "name": "stdout",
          "text": [
            "hy\n"
          ]
        }
      ]
    },
    {
      "cell_type": "markdown",
      "metadata": {
        "id": "HaiG9hykrJas"
      },
      "source": [
        "# Flow Control\n",
        "\n",
        "One of the core building block of software creation/algorithms is flow control.  It tells your program what to do next based on the state it is currently in\n",
        "\n",
        "Let's start with the basic comparators in Python"
      ]
    },
    {
      "cell_type": "code",
      "metadata": {
        "id": "PoDn01qqrJas",
        "colab": {
          "base_uri": "https://localhost:8080/"
        },
        "outputId": "1be4443b-9935-4f0f-d671-dd7dd95370e4"
      },
      "source": [
        "2 < 3"
      ],
      "execution_count": null,
      "outputs": [
        {
          "output_type": "execute_result",
          "data": {
            "text/plain": [
              "True"
            ]
          },
          "metadata": {},
          "execution_count": 2
        }
      ]
    },
    {
      "cell_type": "code",
      "metadata": {
        "id": "n-XOsn7grJas",
        "colab": {
          "base_uri": "https://localhost:8080/"
        },
        "outputId": "5f4bdce5-8b4f-486d-b07f-8d74b067813b"
      },
      "source": [
        "2 > 6"
      ],
      "execution_count": null,
      "outputs": [
        {
          "output_type": "execute_result",
          "data": {
            "text/plain": [
              "False"
            ]
          },
          "metadata": {},
          "execution_count": 3
        }
      ]
    },
    {
      "cell_type": "code",
      "metadata": {
        "id": "HQETqudarJat"
      },
      "source": [
        "x = 5"
      ],
      "execution_count": null,
      "outputs": []
    },
    {
      "cell_type": "code",
      "metadata": {
        "id": "YmkzhJdurJat"
      },
      "source": [
        "x == 6"
      ],
      "execution_count": null,
      "outputs": []
    },
    {
      "cell_type": "code",
      "metadata": {
        "id": "ssx0MvzRrJat",
        "colab": {
          "base_uri": "https://localhost:8080/"
        },
        "outputId": "d394f0da-7e8a-40d3-c60a-2f18d7ad8ddc"
      },
      "source": [
        "x != 6"
      ],
      "execution_count": null,
      "outputs": [
        {
          "output_type": "execute_result",
          "data": {
            "text/plain": [
              "True"
            ]
          },
          "metadata": {},
          "execution_count": 32
        }
      ]
    },
    {
      "cell_type": "markdown",
      "metadata": {
        "id": "sqWndjkXrJat"
      },
      "source": [
        "# Condition Execution: The If Statement"
      ]
    },
    {
      "cell_type": "code",
      "metadata": {
        "id": "BEm9kkljrJau"
      },
      "source": [
        "def even(n):\n",
        "    if (n % 2 == 0):\n",
        "        print(\"I am even!\")\n",
        "    else:\n",
        "        print(\"I am odd!\")"
      ],
      "execution_count": null,
      "outputs": []
    },
    {
      "cell_type": "code",
      "metadata": {
        "id": "UaJimbrRrJau",
        "colab": {
          "base_uri": "https://localhost:8080/"
        },
        "outputId": "32f56353-7d52-4717-bb88-91813bd1d3b9"
      },
      "source": [
        "even(2)"
      ],
      "execution_count": null,
      "outputs": [
        {
          "output_type": "stream",
          "name": "stdout",
          "text": [
            "I am even!\n"
          ]
        }
      ]
    },
    {
      "cell_type": "code",
      "metadata": {
        "id": "d08yvZ96rJau"
      },
      "source": [
        "even(3)"
      ],
      "execution_count": null,
      "outputs": []
    },
    {
      "cell_type": "code",
      "metadata": {
        "id": "lOXj-4LlrJau"
      },
      "source": [
        "even(\"Goodbye\")"
      ],
      "execution_count": null,
      "outputs": []
    },
    {
      "cell_type": "code",
      "source": [],
      "metadata": {
        "id": "q6K_NoxH4J7s"
      },
      "execution_count": null,
      "outputs": []
    },
    {
      "cell_type": "markdown",
      "metadata": {
        "id": "TA0WRMhzrJav"
      },
      "source": [
        "How do we handle the uneven case?"
      ]
    },
    {
      "cell_type": "code",
      "metadata": {
        "id": "9mk_l2wArJav"
      },
      "source": [
        "def even(n):\n",
        "    if (type(n) != int):\n",
        "        print(\"Unsupported Type!\")\n",
        "    elif (n % 2 == 0):\n",
        "        print(\"I am even!\")\n",
        "    else:\n",
        "        print(\"I am odd!\")"
      ],
      "execution_count": 98,
      "outputs": []
    },
    {
      "cell_type": "code",
      "metadata": {
        "id": "8KCOukkDrJav",
        "colab": {
          "base_uri": "https://localhost:8080/"
        },
        "outputId": "c5a39c93-b481-4854-d4ce-4b9876a3e0fe"
      },
      "source": [
        "even('2')"
      ],
      "execution_count": 99,
      "outputs": [
        {
          "output_type": "stream",
          "name": "stdout",
          "text": [
            "Unsupported Type!\n"
          ]
        }
      ]
    },
    {
      "cell_type": "code",
      "metadata": {
        "id": "P6v0IgHRrJav",
        "colab": {
          "base_uri": "https://localhost:8080/"
        },
        "outputId": "aaad2f45-027f-4acc-c3f8-b709d29ee332"
      },
      "source": [
        "even(3)"
      ],
      "execution_count": 100,
      "outputs": [
        {
          "output_type": "stream",
          "name": "stdout",
          "text": [
            "I am odd!\n"
          ]
        }
      ]
    },
    {
      "cell_type": "code",
      "metadata": {
        "id": "JB6mMiVQrJaw",
        "colab": {
          "base_uri": "https://localhost:8080/"
        },
        "outputId": "d2d60769-2a6a-4540-c5b9-3c7f86508afc"
      },
      "source": [
        "even(\"Goodbye\")"
      ],
      "execution_count": null,
      "outputs": [
        {
          "output_type": "stream",
          "name": "stdout",
          "text": [
            "Unsupported Type!\n"
          ]
        }
      ]
    },
    {
      "cell_type": "code",
      "source": [
        "# Write a function that prints \"Success!\"\n",
        "# if an arguement matches your favourite color and\n",
        "# prints \"Failure!\" if an arguement does not match your favourite colour.\n",
        "def check_favorite_color(input_color):\n",
        "    favorite_color = \"blue\"\n",
        "    # Check if the input is a string\n",
        "    if input_color == favorite_color:\n",
        "      print(\"Success!\")\n",
        "    elif input_color == 'red':\n",
        "      print('red')\n",
        "    elif input_color == 'yellow':\n",
        "      print('Yellow')\n",
        "    else:\n",
        "      print(\"Failure!\")\n",
        "\n"
      ],
      "metadata": {
        "id": "JTzKuaDtGPTf"
      },
      "execution_count": 126,
      "outputs": []
    },
    {
      "cell_type": "code",
      "source": [
        "check_favorite_color('red')"
      ],
      "metadata": {
        "colab": {
          "base_uri": "https://localhost:8080/"
        },
        "id": "IIIZq2fCGuMd",
        "outputId": "306c61b7-1b48-4730-dd05-5c7d92d69c69"
      },
      "execution_count": 128,
      "outputs": [
        {
          "output_type": "stream",
          "name": "stdout",
          "text": [
            "red\n"
          ]
        }
      ]
    },
    {
      "cell_type": "markdown",
      "metadata": {
        "id": "z_gfzwzorJaw"
      },
      "source": [
        "# If Statement In Class Exercise\n",
        "\n",
        "1. Write a function that prints \"Success!\" if an arguement matches your favourite color and prints \"Failure!\" if an arguement does not match your favourite colour.\n",
        "\n",
        "2. Add the ability to check the type of the passed in to make sure your are only comparing strings"
      ]
    },
    {
      "cell_type": "code",
      "metadata": {
        "id": "SjdEG8UhrJaw",
        "colab": {
          "base_uri": "https://localhost:8080/"
        },
        "outputId": "c2ea5617-0a48-4aea-f8c1-c9bdb0ef5196"
      },
      "source": [
        "#This cell is for the If Statement In Class Exercise.  Save a screenshot of your code and it's output as if.jpeg\n",
        "def check_favorite_color(input_color):\n",
        "    favorite_color = \"blue\"\n",
        "\n",
        "    # Check if the input is a string\n",
        "    if isinstance(input_color, str):\n",
        "        # Compare the input color with the favorite color\n",
        "        if input_color.lower() == favorite_color.lower():\n",
        "            print(\"Success!\")\n",
        "        else:\n",
        "            print(\"Failure! The input color does not match your favorite color.\")\n",
        "    else:\n",
        "        print(\"Failure! Please provide a valid string as the input color.\")\n",
        "\n",
        "# Test the function with your favorite color\n",
        "check_favorite_color(\"blue\")\n",
        "\n",
        "# Test the function with a color that does not match\n",
        "check_favorite_color(\"red\")\n",
        "\n",
        "# Test the function with a non-string input\n",
        "check_favorite_color(42)\n",
        "\n"
      ],
      "execution_count": null,
      "outputs": [
        {
          "output_type": "stream",
          "name": "stdout",
          "text": [
            "Success!\n",
            "Failure! The input color does not match your favorite color.\n",
            "Failure! Please provide a valid string as the input color.\n"
          ]
        }
      ]
    },
    {
      "cell_type": "markdown",
      "metadata": {
        "id": "XGpiLvy3rJax"
      },
      "source": [
        "# Loops\n",
        "\n",
        "## The while loop..."
      ]
    },
    {
      "cell_type": "code",
      "metadata": {
        "id": "emyRkBWgrJax",
        "colab": {
          "base_uri": "https://localhost:8080/"
        },
        "outputId": "f0c99337-575f-431d-c4cc-215061885c0b"
      },
      "source": [
        "i = 0\n",
        "\n",
        "while (i <= 10):\n",
        "    print(i)\n",
        "    i += 1"
      ],
      "execution_count": 101,
      "outputs": [
        {
          "output_type": "stream",
          "name": "stdout",
          "text": [
            "0\n",
            "1\n",
            "2\n",
            "3\n",
            "4\n",
            "5\n",
            "6\n",
            "7\n",
            "8\n",
            "9\n",
            "10\n"
          ]
        }
      ]
    },
    {
      "cell_type": "code",
      "metadata": {
        "id": "oN_3iDrJrUFP",
        "colab": {
          "base_uri": "https://localhost:8080/"
        },
        "outputId": "4d932a5d-d6a8-495e-c82c-8c9283ec41fc"
      },
      "source": [
        "i = 0\n",
        "while ( i < 10):\n",
        "  print('hi' * i)\n",
        "  i+=1"
      ],
      "execution_count": 102,
      "outputs": [
        {
          "output_type": "stream",
          "name": "stdout",
          "text": [
            "\n",
            "hi\n",
            "hihi\n",
            "hihihi\n",
            "hihihihi\n",
            "hihihihihi\n",
            "hihihihihihi\n",
            "hihihihihihihi\n",
            "hihihihihihihihi\n",
            "hihihihihihihihihi\n"
          ]
        }
      ]
    },
    {
      "cell_type": "markdown",
      "metadata": {
        "id": "6IsZkJo8rJax"
      },
      "source": [
        "break and continue...\n",
        "\n",
        "The break command will break out of the smallest while or for loop"
      ]
    },
    {
      "cell_type": "code",
      "metadata": {
        "id": "GV1U9G9rrJay",
        "colab": {
          "base_uri": "https://localhost:8080/"
        },
        "outputId": "15cc5a12-da69-4d72-8f78-ae0669e913df"
      },
      "source": [
        "i = 0\n",
        "\n",
        "while(True):\n",
        "    i += 1\n",
        "    print(i)\n",
        "    if (i == 10):\n",
        "        break;"
      ],
      "execution_count": 103,
      "outputs": [
        {
          "output_type": "stream",
          "name": "stdout",
          "text": [
            "1\n",
            "2\n",
            "3\n",
            "4\n",
            "5\n",
            "6\n",
            "7\n",
            "8\n",
            "9\n",
            "10\n"
          ]
        }
      ]
    },
    {
      "cell_type": "markdown",
      "metadata": {
        "id": "FAzA4SBmrJay"
      },
      "source": [
        "The continue command will halt the current iteration of the loop and continue to the next value"
      ]
    },
    {
      "cell_type": "code",
      "metadata": {
        "id": "EHbmMVZrrJaz",
        "colab": {
          "base_uri": "https://localhost:8080/"
        },
        "outputId": "313f5404-5fe3-40d3-a53c-8ac68d32f5da"
      },
      "source": [
        "i = 0\n",
        "\n",
        "while(True):\n",
        "    i += 1\n",
        "    if (i % 2 == 0):\n",
        "        print(str(i) + \" is even\")\n",
        "    if (i == 100):\n",
        "        break;"
      ],
      "execution_count": null,
      "outputs": [
        {
          "output_type": "stream",
          "name": "stdout",
          "text": [
            "2 is even\n",
            "4 is even\n",
            "6 is even\n",
            "8 is even\n",
            "10 is even\n",
            "12 is even\n",
            "14 is even\n",
            "16 is even\n",
            "18 is even\n",
            "20 is even\n",
            "22 is even\n",
            "24 is even\n",
            "26 is even\n",
            "28 is even\n",
            "30 is even\n",
            "32 is even\n",
            "34 is even\n",
            "36 is even\n",
            "38 is even\n",
            "40 is even\n",
            "42 is even\n",
            "44 is even\n",
            "46 is even\n",
            "48 is even\n",
            "50 is even\n",
            "52 is even\n",
            "54 is even\n",
            "56 is even\n",
            "58 is even\n",
            "60 is even\n",
            "62 is even\n",
            "64 is even\n",
            "66 is even\n",
            "68 is even\n",
            "70 is even\n",
            "72 is even\n",
            "74 is even\n",
            "76 is even\n",
            "78 is even\n",
            "80 is even\n",
            "82 is even\n",
            "84 is even\n",
            "86 is even\n",
            "88 is even\n",
            "90 is even\n",
            "92 is even\n",
            "94 is even\n",
            "96 is even\n",
            "98 is even\n",
            "100 is even\n"
          ]
        }
      ]
    },
    {
      "cell_type": "markdown",
      "metadata": {
        "id": "VWoAkUQArJaz"
      },
      "source": [
        "The else clause\n",
        "\n",
        "You can have an else statement at the end of a loop.  It will only run if the loop completes normally.  A break will skip it."
      ]
    },
    {
      "cell_type": "code",
      "metadata": {
        "id": "JshlJUwwrJaz",
        "colab": {
          "base_uri": "https://localhost:8080/"
        },
        "outputId": "6269ef71-7640-4351-d125-283a1228fc03"
      },
      "source": [
        "i = 0\n",
        "\n",
        "while (i < 10):\n",
        "    print(i)\n",
        "    i += 1\n",
        "else:\n",
        "    print(\"the condition has become false\")\n",
        "\n",
        "print (\"Done!\")"
      ],
      "execution_count": null,
      "outputs": [
        {
          "output_type": "stream",
          "name": "stdout",
          "text": [
            "0\n",
            "1\n",
            "2\n",
            "3\n",
            "4\n",
            "5\n",
            "6\n",
            "7\n",
            "8\n",
            "9\n",
            "the condition has become false\n",
            "Done!\n"
          ]
        }
      ]
    },
    {
      "cell_type": "code",
      "metadata": {
        "id": "9ZAgG_jCrJa0",
        "colab": {
          "base_uri": "https://localhost:8080/"
        },
        "outputId": "6a7c6c97-b3aa-43be-b3bc-045110063f34"
      },
      "source": [
        "i = 0\n",
        "\n",
        "while (i < 10):\n",
        "    print(i)\n",
        "    if True:\n",
        "        break\n",
        "    i += 1\n",
        "else:\n",
        "    print(\"the condition has become false\")\n",
        "\n",
        "print (\"Done!\")"
      ],
      "execution_count": null,
      "outputs": [
        {
          "output_type": "stream",
          "name": "stdout",
          "text": [
            "0\n",
            "Done!\n"
          ]
        }
      ]
    },
    {
      "cell_type": "markdown",
      "metadata": {
        "id": "gy1h_fgdrJa0"
      },
      "source": [
        "# While Loop In Class Exercises\n",
        "\n",
        "1. Write a while loop that prints your favourite colour.  Use the * operator and the loop counter to print a corresponding number of colours per line.\n"
      ]
    },
    {
      "cell_type": "code",
      "metadata": {
        "id": "7ZqcgORwrJa0"
      },
      "source": [
        "#This cell if for while loop in class exercises.  Save your code and output as while.jpeg."
      ],
      "execution_count": null,
      "outputs": []
    },
    {
      "cell_type": "markdown",
      "metadata": {
        "id": "ef453Z4MrJa1"
      },
      "source": [
        "## The For Loop\n",
        "\n",
        "Probably the most used control flow structure in Python.  However, as you will see, it does not behave like a for loop in C or Java"
      ]
    },
    {
      "cell_type": "code",
      "metadata": {
        "id": "kyJ7eBNFrJa1",
        "colab": {
          "base_uri": "https://localhost:8080/"
        },
        "outputId": "0d86b52e-d7e6-4528-92fe-44342e10cd84"
      },
      "source": [
        "for i in [1,2,3,4,5,6,7,8,9,0,'x','y','z']:\n",
        "    print(i)"
      ],
      "execution_count": 104,
      "outputs": [
        {
          "output_type": "stream",
          "name": "stdout",
          "text": [
            "1\n",
            "2\n",
            "3\n",
            "4\n",
            "5\n",
            "6\n",
            "7\n",
            "8\n",
            "9\n",
            "0\n",
            "x\n",
            "y\n",
            "z\n"
          ]
        }
      ]
    },
    {
      "cell_type": "code",
      "metadata": {
        "id": "XXiMcfI6rJa1",
        "colab": {
          "base_uri": "https://localhost:8080/"
        },
        "outputId": "d940ee63-2a50-43d7-f666-2dedbf30f119"
      },
      "source": [
        "for i in [1,2,3,4,5,6,7,8,9,0,'x','y','z']:\n",
        "    print(i, type(i)) # You can mixed type lists in Python"
      ],
      "execution_count": 105,
      "outputs": [
        {
          "output_type": "stream",
          "name": "stdout",
          "text": [
            "1 <class 'int'>\n",
            "2 <class 'int'>\n",
            "3 <class 'int'>\n",
            "4 <class 'int'>\n",
            "5 <class 'int'>\n",
            "6 <class 'int'>\n",
            "7 <class 'int'>\n",
            "8 <class 'int'>\n",
            "9 <class 'int'>\n",
            "0 <class 'int'>\n",
            "x <class 'str'>\n",
            "y <class 'str'>\n",
            "z <class 'str'>\n"
          ]
        }
      ]
    },
    {
      "cell_type": "markdown",
      "metadata": {
        "id": "d7aBdC_7rJa2"
      },
      "source": [
        "# For Loop In Class Exercises\n",
        "1. Write a for loop that prints every character of \"Python is Awesome!\"\n",
        "2. Use the string method 'split' to write a for loop that prints out every word of \"Python is Awesome!\".  Hint: help(str.split)"
      ]
    },
    {
      "cell_type": "code",
      "source": [
        "string_to_print = \"Python is Awesome!\"\n",
        "\n",
        "for char in string_to_print:\n",
        "    print(char)\n"
      ],
      "metadata": {
        "colab": {
          "base_uri": "https://localhost:8080/"
        },
        "id": "Q8dmI99Z4gl7",
        "outputId": "d3e1e198-9961-49c1-edc3-6b4a5e5182b0"
      },
      "execution_count": 106,
      "outputs": [
        {
          "output_type": "stream",
          "name": "stdout",
          "text": [
            "P\n",
            "y\n",
            "t\n",
            "h\n",
            "o\n",
            "n\n",
            " \n",
            "i\n",
            "s\n",
            " \n",
            "A\n",
            "w\n",
            "e\n",
            "s\n",
            "o\n",
            "m\n",
            "e\n",
            "!\n"
          ]
        }
      ]
    },
    {
      "cell_type": "code",
      "source": [
        "string_to_print = \"Python is Awesome!\"\n",
        "\n",
        "# Using the split method to split the string into a list of words\n",
        "words_list = string_to_print.split()\n",
        "\n",
        "# Using a for loop to print each word\n",
        "for word in words_list:\n",
        "    print(word)\n"
      ],
      "metadata": {
        "colab": {
          "base_uri": "https://localhost:8080/"
        },
        "id": "ycbYDcsj4jXm",
        "outputId": "648b433b-7972-4b70-b8b9-04546c257010"
      },
      "execution_count": null,
      "outputs": [
        {
          "output_type": "stream",
          "name": "stdout",
          "text": [
            "Python\n",
            "is\n",
            "Awesome!\n"
          ]
        }
      ]
    },
    {
      "cell_type": "code",
      "source": [],
      "metadata": {
        "id": "ListWIqz4txd"
      },
      "execution_count": null,
      "outputs": []
    },
    {
      "cell_type": "code",
      "metadata": {
        "id": "6r_wQmHptr_m"
      },
      "source": [
        "# This cell is for the loop exercises.  Save your code and your output as for.jpeg"
      ],
      "execution_count": null,
      "outputs": []
    },
    {
      "cell_type": "markdown",
      "metadata": {
        "id": "3vbdzIKJrJa2"
      },
      "source": [
        "## Range - Python's traditional for..."
      ]
    },
    {
      "cell_type": "code",
      "metadata": {
        "id": "nWLP-IOdrJa2",
        "colab": {
          "base_uri": "https://localhost:8080/"
        },
        "outputId": "aefec0f5-54e0-41f1-efbf-1a84dfac6fd7"
      },
      "source": [
        "print(range(10))"
      ],
      "execution_count": 107,
      "outputs": [
        {
          "output_type": "stream",
          "name": "stdout",
          "text": [
            "range(0, 10)\n"
          ]
        }
      ]
    },
    {
      "cell_type": "code",
      "metadata": {
        "id": "_C0UuBq1rJa2",
        "colab": {
          "base_uri": "https://localhost:8080/"
        },
        "outputId": "7c35acd1-d5d8-4d1b-f34c-ee852c38dfd0"
      },
      "source": [
        "for i in range(2,6):\n",
        "    print(i)"
      ],
      "execution_count": 109,
      "outputs": [
        {
          "output_type": "stream",
          "name": "stdout",
          "text": [
            "2\n",
            "3\n",
            "4\n",
            "5\n"
          ]
        }
      ]
    },
    {
      "cell_type": "code",
      "metadata": {
        "id": "JIA6ZiAOrJa3",
        "colab": {
          "base_uri": "https://localhost:8080/"
        },
        "outputId": "19149e4b-80ab-4fbe-988c-d526b13d2864"
      },
      "source": [
        "for i in range(10,20,2):\n",
        "    print(i)"
      ],
      "execution_count": null,
      "outputs": [
        {
          "output_type": "stream",
          "name": "stdout",
          "text": [
            "10\n",
            "12\n",
            "14\n",
            "16\n",
            "18\n"
          ]
        }
      ]
    },
    {
      "cell_type": "code",
      "metadata": {
        "id": "5RQAEnXnrJa3",
        "colab": {
          "base_uri": "https://localhost:8080/"
        },
        "outputId": "b97e3cac-6e72-4e7a-a787-00516266cf9a"
      },
      "source": [
        "for i in range(50,-20,-5):\n",
        "    print(i)"
      ],
      "execution_count": 111,
      "outputs": [
        {
          "output_type": "stream",
          "name": "stdout",
          "text": [
            "50\n",
            "45\n",
            "40\n",
            "35\n",
            "30\n",
            "25\n",
            "20\n",
            "15\n",
            "10\n",
            "5\n",
            "0\n",
            "-5\n",
            "-10\n",
            "-15\n"
          ]
        }
      ]
    },
    {
      "cell_type": "markdown",
      "metadata": {
        "id": "mi7IIHg7rJa3"
      },
      "source": [
        "The enumerate function is the prefered way of keeping track of the loop index"
      ]
    },
    {
      "cell_type": "code",
      "metadata": {
        "scrolled": false,
        "id": "DzoP4MHcrJa3",
        "colab": {
          "base_uri": "https://localhost:8080/"
        },
        "outputId": "5f94d0de-7a06-469a-c0c0-6de8dfd82b92"
      },
      "source": [
        "x = \"This is a testing string!\"\n",
        "\n",
        "for (i,j) in enumerate(x):\n",
        "    print(\"Character: \"+ j + \" Position: \" + str(i))"
      ],
      "execution_count": 112,
      "outputs": [
        {
          "output_type": "stream",
          "name": "stdout",
          "text": [
            "Character: T Position: 0\n",
            "Character: h Position: 1\n",
            "Character: i Position: 2\n",
            "Character: s Position: 3\n",
            "Character:   Position: 4\n",
            "Character: i Position: 5\n",
            "Character: s Position: 6\n",
            "Character:   Position: 7\n",
            "Character: a Position: 8\n",
            "Character:   Position: 9\n",
            "Character: t Position: 10\n",
            "Character: e Position: 11\n",
            "Character: s Position: 12\n",
            "Character: t Position: 13\n",
            "Character: i Position: 14\n",
            "Character: n Position: 15\n",
            "Character: g Position: 16\n",
            "Character:   Position: 17\n",
            "Character: s Position: 18\n",
            "Character: t Position: 19\n",
            "Character: r Position: 20\n",
            "Character: i Position: 21\n",
            "Character: n Position: 22\n",
            "Character: g Position: 23\n",
            "Character: ! Position: 24\n"
          ]
        }
      ]
    },
    {
      "cell_type": "markdown",
      "metadata": {
        "id": "w0l3iyo-rJa4"
      },
      "source": [
        "# Range In Class Exercise\n",
        "\n",
        "1. Use range to write a for loop to print out a numbered grocery list (make up a list of 5 items if necessary)"
      ]
    },
    {
      "cell_type": "code",
      "metadata": {
        "id": "JtBfiUanrJa4"
      },
      "source": [
        "# Cell for range in class exercise.  Save your code and output as range1.jpeg"
      ],
      "execution_count": null,
      "outputs": []
    },
    {
      "cell_type": "markdown",
      "metadata": {
        "id": "ieRGRck3rJa4"
      },
      "source": [
        "2. Use range to write a for loop that prints out 10 copies of your favourite snack.  How does this compare to using a while loop?"
      ]
    },
    {
      "cell_type": "code",
      "metadata": {
        "id": "AErbUfHtrJa5"
      },
      "source": [
        "# Cell for range in class exercise.  Save your code and output as range2.jpeg"
      ],
      "execution_count": null,
      "outputs": []
    },
    {
      "cell_type": "code",
      "source": [],
      "metadata": {
        "id": "kLqEOCBzbkCH"
      },
      "execution_count": null,
      "outputs": []
    },
    {
      "cell_type": "code",
      "source": [
        "def factorial(n):\n",
        "    fact = 1\n",
        "    for num in range(2, n + 1):\n",
        "        fact *= num\n",
        "    return fact"
      ],
      "metadata": {
        "id": "puCRBQ0vXH6l"
      },
      "execution_count": 56,
      "outputs": []
    },
    {
      "cell_type": "code",
      "source": [
        "factorial(3)"
      ],
      "metadata": {
        "colab": {
          "base_uri": "https://localhost:8080/"
        },
        "id": "h6UO68kLarGa",
        "outputId": "cf3050c0-4850-40c2-db63-5568d6911702"
      },
      "execution_count": 59,
      "outputs": [
        {
          "output_type": "execute_result",
          "data": {
            "text/plain": [
              "6"
            ]
          },
          "metadata": {},
          "execution_count": 59
        }
      ]
    },
    {
      "cell_type": "code",
      "source": [
        "def factorial(n):\n",
        "    if n < 2:\n",
        "        return 1\n",
        "    else:\n",
        "        return n * factorial(n-1)"
      ],
      "metadata": {
        "id": "W63swcVPanym"
      },
      "execution_count": 58,
      "outputs": []
    }
  ]
}