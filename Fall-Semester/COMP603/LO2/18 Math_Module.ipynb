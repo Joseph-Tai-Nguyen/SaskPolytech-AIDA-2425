{
 "cells": [
  {
   "cell_type": "markdown",
   "metadata": {
    "id": "H5DBfmFS94Bq"
   },
   "source": [
    "Python has a set of built-in math functions, including an extensive math module.\n",
    "It allows you to perform mathematical tasks on numbers."
   ]
  },
  {
   "cell_type": "code",
   "execution_count": 1,
   "metadata": {
    "executionInfo": {
     "elapsed": 48,
     "status": "ok",
     "timestamp": 1695669615007,
     "user": {
      "displayName": "Himanshu Patel",
      "userId": "04463614651384156337"
     },
     "user_tz": 360
    },
    "id": "-PKv9UuB91zf"
   },
   "outputs": [],
   "source": [
    "import math"
   ]
  },
  {
   "cell_type": "code",
   "execution_count": 2,
   "metadata": {
    "colab": {
     "base_uri": "https://localhost:8080/"
    },
    "executionInfo": {
     "elapsed": 48,
     "status": "ok",
     "timestamp": 1695669615008,
     "user": {
      "displayName": "Himanshu Patel",
      "userId": "04463614651384156337"
     },
     "user_tz": 360
    },
    "id": "Mn9tpp7n99yj",
    "outputId": "1a2683e5-3d96-4580-e216-e9acb3401c27"
   },
   "outputs": [
    {
     "name": "stdout",
     "output_type": "stream",
     "text": [
      "10\n",
      "35\n"
     ]
    }
   ],
   "source": [
    "x = min(15, 10, 25)   # Minimum No\n",
    "y = max(35, 10, 25)   # Maximum No\n",
    "\n",
    "print(x)\n",
    "print(y)"
   ]
  },
  {
   "cell_type": "code",
   "execution_count": 3,
   "metadata": {
    "colab": {
     "base_uri": "https://localhost:8080/"
    },
    "executionInfo": {
     "elapsed": 39,
     "status": "ok",
     "timestamp": 1695669615008,
     "user": {
      "displayName": "Himanshu Patel",
      "userId": "04463614651384156337"
     },
     "user_tz": 360
    },
    "id": "2KzGQ8Mh-B0T",
    "outputId": "e688b061-2632-469d-a442-19223a7738a4"
   },
   "outputs": [
    {
     "name": "stdout",
     "output_type": "stream",
     "text": [
      "7.25\n"
     ]
    }
   ],
   "source": [
    "x = abs(-7.25) # The abs() function returns the absolute (positive) value of the specified number\n",
    "\n",
    "print(x)"
   ]
  },
  {
   "cell_type": "code",
   "execution_count": 4,
   "metadata": {
    "colab": {
     "base_uri": "https://localhost:8080/"
    },
    "executionInfo": {
     "elapsed": 31,
     "status": "ok",
     "timestamp": 1695669615008,
     "user": {
      "displayName": "Himanshu Patel",
      "userId": "04463614651384156337"
     },
     "user_tz": 360
    },
    "id": "x-ZUKu-h-Ndi",
    "outputId": "b4bbf258-5392-4f49-9268-caf8f633cde9"
   },
   "outputs": [
    {
     "name": "stdout",
     "output_type": "stream",
     "text": [
      "64\n"
     ]
    }
   ],
   "source": [
    "x = pow(4, 3)  # Return the value of 4 to the power of 3 (same as 4 * 4 * 4)\n",
    "\n",
    "print(x)"
   ]
  },
  {
   "cell_type": "code",
   "execution_count": 5,
   "metadata": {
    "colab": {
     "base_uri": "https://localhost:8080/"
    },
    "executionInfo": {
     "elapsed": 24,
     "status": "ok",
     "timestamp": 1695669615008,
     "user": {
      "displayName": "Himanshu Patel",
      "userId": "04463614651384156337"
     },
     "user_tz": 360
    },
    "id": "zjxuh4CR-WqZ",
    "outputId": "73a0744e-c2f3-4a94-87d4-c738918fdc2f"
   },
   "outputs": [
    {
     "name": "stdout",
     "output_type": "stream",
     "text": [
      "8.0\n"
     ]
    }
   ],
   "source": [
    "x = math.sqrt(64) # The math.sqrt() method for example, returns the square root of a number\n",
    "\n",
    "print(x)"
   ]
  },
  {
   "cell_type": "code",
   "execution_count": 6,
   "metadata": {
    "colab": {
     "base_uri": "https://localhost:8080/"
    },
    "executionInfo": {
     "elapsed": 18,
     "status": "ok",
     "timestamp": 1695669615008,
     "user": {
      "displayName": "Himanshu Patel",
      "userId": "04463614651384156337"
     },
     "user_tz": 360
    },
    "id": "Lo8FyHAl-dUf",
    "outputId": "bf2d90c0-c68e-413d-ac43-1024222a2e09"
   },
   "outputs": [
    {
     "name": "stdout",
     "output_type": "stream",
     "text": [
      "2\n",
      "1\n"
     ]
    }
   ],
   "source": [
    "import math\n",
    "\n",
    "x = math.ceil(1.4)   # The math.ceil() method rounds a number upwards to its nearest integer.\n",
    "y = math.floor(1.4)  # The math.floor() method rounds a number downwards to its nearest integer.\n",
    "\n",
    "print(x) # returns 2\n",
    "print(y) # returns 1"
   ]
  },
  {
   "cell_type": "code",
   "execution_count": 7,
   "metadata": {
    "colab": {
     "base_uri": "https://localhost:8080/"
    },
    "executionInfo": {
     "elapsed": 11,
     "status": "ok",
     "timestamp": 1695669615008,
     "user": {
      "displayName": "Himanshu Patel",
      "userId": "04463614651384156337"
     },
     "user_tz": 360
    },
    "id": "EkdULgmg-p7v",
    "outputId": "151dd706-e14c-409e-9189-ed447a507eca"
   },
   "outputs": [
    {
     "name": "stdout",
     "output_type": "stream",
     "text": [
      "3.141592653589793\n"
     ]
    }
   ],
   "source": [
    "x = math.pi   # Value of pi  22/7\n",
    "\n",
    "print(x)"
   ]
  },
  {
   "cell_type": "code",
   "execution_count": 8,
   "metadata": {
    "colab": {
     "base_uri": "https://localhost:8080/"
    },
    "executionInfo": {
     "elapsed": 55,
     "status": "ok",
     "timestamp": 1695669615279,
     "user": {
      "displayName": "Himanshu Patel",
      "userId": "04463614651384156337"
     },
     "user_tz": 360
    },
    "id": "8Clr0Iua-tRc",
    "outputId": "be636a64-f672-4f9e-d9aa-852bd3304f1f"
   },
   "outputs": [
    {
     "name": "stdout",
     "output_type": "stream",
     "text": [
      "24\n"
     ]
    }
   ],
   "source": [
    "a = 4\n",
    "\n",
    "print(math.factorial(a))   # Factorial 4! = 4*3*2*1"
   ]
  },
  {
   "cell_type": "code",
   "execution_count": 9,
   "metadata": {
    "colab": {
     "base_uri": "https://localhost:8080/"
    },
    "executionInfo": {
     "elapsed": 41,
     "status": "ok",
     "timestamp": 1695669615279,
     "user": {
      "displayName": "Himanshu Patel",
      "userId": "04463614651384156337"
     },
     "user_tz": 360
    },
    "id": "_YqAhzSr_A4M",
    "outputId": "ff834c9a-af8a-49a3-b1eb-53156ff211e7"
   },
   "outputs": [
    {
     "name": "stdout",
     "output_type": "stream",
     "text": [
      "6.0\n"
     ]
    }
   ],
   "source": [
    "a = 20\n",
    "b = 7\n",
    "\n",
    "print(math.fmod(a,b))  # Returns the remainder of specified numbers when a number is divided by another number"
   ]
  },
  {
   "cell_type": "code",
   "execution_count": 10,
   "metadata": {
    "colab": {
     "base_uri": "https://localhost:8080/"
    },
    "executionInfo": {
     "elapsed": 34,
     "status": "ok",
     "timestamp": 1695669615279,
     "user": {
      "displayName": "Himanshu Patel",
      "userId": "04463614651384156337"
     },
     "user_tz": 360
    },
    "id": "30aOzBFU_jck",
    "outputId": "cd39819b-3214-4d8d-8fea-68f22a24bd18"
   },
   "outputs": [
    {
     "name": "stdout",
     "output_type": "stream",
     "text": [
      "True\n"
     ]
    }
   ],
   "source": [
    "x = 7\n",
    "\n",
    "print(math.isfinite(x))  # Checks whether x is a finite number"
   ]
  },
  {
   "cell_type": "code",
   "execution_count": 11,
   "metadata": {
    "colab": {
     "base_uri": "https://localhost:8080/"
    },
    "executionInfo": {
     "elapsed": 31,
     "status": "ok",
     "timestamp": 1695669615280,
     "user": {
      "displayName": "Himanshu Patel",
      "userId": "04463614651384156337"
     },
     "user_tz": 360
    },
    "id": "LmO_JnHv_rc0",
    "outputId": "4ef4cbb0-7041-4539-d692-c9fa00b024bc"
   },
   "outputs": [
    {
     "name": "stdout",
     "output_type": "stream",
     "text": [
      "1.301029995663981\n"
     ]
    }
   ],
   "source": [
    "x = 20\n",
    "\n",
    "print(math.log(x,10))  # Returns the natural logarithm of a number, or the logarithm of number to base\n",
    "\n",
    "# Here 10 is a base"
   ]
  },
  {
   "cell_type": "code",
   "execution_count": 12,
   "metadata": {
    "colab": {
     "base_uri": "https://localhost:8080/"
    },
    "executionInfo": {
     "elapsed": 28,
     "status": "ok",
     "timestamp": 1695669615280,
     "user": {
      "displayName": "Himanshu Patel",
      "userId": "04463614651384156337"
     },
     "user_tz": 360
    },
    "id": "sK8K0H6H_03A",
    "outputId": "d4832b9d-85ed-4531-fb26-c66c73b5c060"
   },
   "outputs": [
    {
     "name": "stdout",
     "output_type": "stream",
     "text": [
      "-0.428182669496151\n"
     ]
    }
   ],
   "source": [
    "x = 35\n",
    "\n",
    "print(math.sin(x))   # Returns a sin value"
   ]
  },
  {
   "cell_type": "code",
   "execution_count": 13,
   "metadata": {
    "colab": {
     "base_uri": "https://localhost:8080/"
    },
    "executionInfo": {
     "elapsed": 26,
     "status": "ok",
     "timestamp": 1695669615280,
     "user": {
      "displayName": "Himanshu Patel",
      "userId": "04463614651384156337"
     },
     "user_tz": 360
    },
    "id": "tj4vs2-o_80X",
    "outputId": "fa34fe4a-cee3-424d-be91-9d001478bd3f"
   },
   "outputs": [
    {
     "name": "stdout",
     "output_type": "stream",
     "text": [
      "-0.9036922050915067\n"
     ]
    }
   ],
   "source": [
    "x = 35\n",
    "\n",
    "print(math.cos(x))   # Returns a cos value"
   ]
  },
  {
   "cell_type": "code",
   "execution_count": 14,
   "metadata": {
    "colab": {
     "base_uri": "https://localhost:8080/"
    },
    "executionInfo": {
     "elapsed": 23,
     "status": "ok",
     "timestamp": 1695669615280,
     "user": {
      "displayName": "Himanshu Patel",
      "userId": "04463614651384156337"
     },
     "user_tz": 360
    },
    "id": "kntg5bd4ACX-",
    "outputId": "c0333929-4052-4f1b-e843-362ca09cf967"
   },
   "outputs": [
    {
     "name": "stdout",
     "output_type": "stream",
     "text": [
      "0.473814720414451\n"
     ]
    }
   ],
   "source": [
    "x = 35\n",
    "\n",
    "print(math.tan(x))   # Returns a tan value"
   ]
  },
  {
   "cell_type": "code",
   "execution_count": 15,
   "metadata": {
    "colab": {
     "base_uri": "https://localhost:8080/"
    },
    "executionInfo": {
     "elapsed": 20,
     "status": "ok",
     "timestamp": 1695669615280,
     "user": {
      "displayName": "Himanshu Patel",
      "userId": "04463614651384156337"
     },
     "user_tz": 360
    },
    "id": "r_YnIla5AFCg",
    "outputId": "057eb456-395f-46c9-f6d0-8e3e618c05ca"
   },
   "outputs": [
    {
     "name": "stdout",
     "output_type": "stream",
     "text": [
      "3.141592653589793\n"
     ]
    }
   ],
   "source": [
    "# Convert degrees values into radians\n",
    "print(math.radians(180))"
   ]
  },
  {
   "cell_type": "code",
   "execution_count": 16,
   "metadata": {
    "colab": {
     "base_uri": "https://localhost:8080/"
    },
    "executionInfo": {
     "elapsed": 17,
     "status": "ok",
     "timestamp": 1695669615280,
     "user": {
      "displayName": "Himanshu Patel",
      "userId": "04463614651384156337"
     },
     "user_tz": 360
    },
    "id": "cMSBDht0ANRc",
    "outputId": "ebc2d034-3fb6-416e-b6e6-ed80ffc6d7ea"
   },
   "outputs": [
    {
     "name": "stdout",
     "output_type": "stream",
     "text": [
      "False\n"
     ]
    }
   ],
   "source": [
    "x = 25\n",
    "\n",
    "print(math.isnan(x))   # Checks whether x is NaN (not a number)"
   ]
  },
  {
   "cell_type": "code",
   "execution_count": 17,
   "metadata": {
    "colab": {
     "base_uri": "https://localhost:8080/"
    },
    "executionInfo": {
     "elapsed": 15,
     "status": "ok",
     "timestamp": 1695669615280,
     "user": {
      "displayName": "Himanshu Patel",
      "userId": "04463614651384156337"
     },
     "user_tz": 360
    },
    "id": "cXUfqMg-AVXr",
    "outputId": "c7496ef6-fca1-471d-eaae-bad4d7cecd70"
   },
   "outputs": [
    {
     "name": "stdout",
     "output_type": "stream",
     "text": [
      "313.65282994987905\n"
     ]
    }
   ],
   "source": [
    "x = 90\n",
    "\n",
    "print(math.lgamma(x))   #  \tReturns the log gamma value of x"
   ]
  },
  {
   "cell_type": "code",
   "execution_count": 18,
   "metadata": {
    "colab": {
     "base_uri": "https://localhost:8080/"
    },
    "executionInfo": {
     "elapsed": 12,
     "status": "ok",
     "timestamp": 1695669615280,
     "user": {
      "displayName": "Himanshu Patel",
      "userId": "04463614651384156337"
     },
     "user_tz": 360
    },
    "id": "lkkvyNgdApOR",
    "outputId": "ecba9cc2-bf4e-4065-99a1-aee2ed76abef"
   },
   "outputs": [
    {
     "name": "stdout",
     "output_type": "stream",
     "text": [
      "2.718281828459045\n"
     ]
    }
   ],
   "source": [
    "print(math.e)  # Returns Euler's number   # Constant Value"
   ]
  },
  {
   "cell_type": "code",
   "execution_count": 19,
   "metadata": {
    "colab": {
     "base_uri": "https://localhost:8080/"
    },
    "executionInfo": {
     "elapsed": 10,
     "status": "ok",
     "timestamp": 1695669615280,
     "user": {
      "displayName": "Himanshu Patel",
      "userId": "04463614651384156337"
     },
     "user_tz": 360
    },
    "id": "PZ4bzIWCAv_x",
    "outputId": "debabcc7-c0b0-4ab0-c175-446efe5592bf"
   },
   "outputs": [
    {
     "name": "stdout",
     "output_type": "stream",
     "text": [
      "6.283185307179586\n"
     ]
    }
   ],
   "source": [
    "print(math.tau)    # Returns tau"
   ]
  },
  {
   "cell_type": "code",
   "execution_count": 20,
   "metadata": {
    "colab": {
     "base_uri": "https://localhost:8080/"
    },
    "executionInfo": {
     "elapsed": 7,
     "status": "ok",
     "timestamp": 1695669615280,
     "user": {
      "displayName": "Himanshu Patel",
      "userId": "04463614651384156337"
     },
     "user_tz": 360
    },
    "id": "LPkt7L0sA2jZ",
    "outputId": "ec72f946-fe83-400c-9841-f98985fffc90"
   },
   "outputs": [
    {
     "name": "stdout",
     "output_type": "stream",
     "text": [
      "7.446921003909191e+77\n"
     ]
    }
   ],
   "source": [
    "x = 180\n",
    "\n",
    "print(math.sinh(x))  # Returns the hyperbolic sine of x"
   ]
  },
  {
   "cell_type": "code",
   "execution_count": 21,
   "metadata": {
    "colab": {
     "base_uri": "https://localhost:8080/"
    },
    "executionInfo": {
     "elapsed": 244,
     "status": "ok",
     "timestamp": 1695669615520,
     "user": {
      "displayName": "Himanshu Patel",
      "userId": "04463614651384156337"
     },
     "user_tz": 360
    },
    "id": "WCIyEWdSBEsD",
    "outputId": "7de135a5-19ca-42a8-d24a-bab3decdb55b"
   },
   "outputs": [
    {
     "name": "stdout",
     "output_type": "stream",
     "text": [
      "1.0\n"
     ]
    }
   ],
   "source": [
    "x = 180\n",
    "\n",
    "print(math.tanh(x))  # Returns the hyperbolic tan of x"
   ]
  },
  {
   "cell_type": "code",
   "execution_count": 22,
   "metadata": {
    "colab": {
     "base_uri": "https://localhost:8080/"
    },
    "executionInfo": {
     "elapsed": 9,
     "status": "ok",
     "timestamp": 1695669615521,
     "user": {
      "displayName": "Himanshu Patel",
      "userId": "04463614651384156337"
     },
     "user_tz": 360
    },
    "id": "DyVcwM54BJ0y",
    "outputId": "e974e60b-b45f-4fe1-e51f-4528c6892434"
   },
   "outputs": [
    {
     "name": "stdout",
     "output_type": "stream",
     "text": [
      "2\n"
     ]
    }
   ],
   "source": [
    "print(math.gcd(26, 12))  # Returns the highest number that can divide two numbers"
   ]
  }
 ],
 "metadata": {
  "colab": {
   "provenance": []
  },
  "kernelspec": {
   "display_name": "Python 3 (ipykernel)",
   "language": "python",
   "name": "python3"
  },
  "language_info": {
   "codemirror_mode": {
    "name": "ipython",
    "version": 3
   },
   "file_extension": ".py",
   "mimetype": "text/x-python",
   "name": "python",
   "nbconvert_exporter": "python",
   "pygments_lexer": "ipython3",
   "version": "3.12.4"
  }
 },
 "nbformat": 4,
 "nbformat_minor": 4
}
