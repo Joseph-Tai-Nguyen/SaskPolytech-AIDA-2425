{
 "cells": [
  {
   "cell_type": "code",
   "execution_count": null,
   "metadata": {
    "colab": {
     "base_uri": "https://localhost:8080/",
     "height": 36
    },
    "id": "rTvxeqkz42z4",
    "outputId": "9d07ff9e-07dc-4e41-d501-b00bb8f96f73"
   },
   "outputs": [
    {
     "name": "stdout",
     "output_type": "stream",
     "text": [
      "15\n"
     ]
    }
   ],
   "source": [
    "# Create A Lambda Function\n",
    "\n",
    "x = lambda a : a + 10\n",
    "print(x(5))     # Here a = 5"
   ]
  },
  {
   "cell_type": "code",
   "execution_count": null,
   "metadata": {
    "colab": {
     "base_uri": "https://localhost:8080/",
     "height": 36
    },
    "id": "eusyR5de54cR",
    "outputId": "2276282f-4236-4d6d-ff2e-42a1a80593e2"
   },
   "outputs": [
    {
     "name": "stdout",
     "output_type": "stream",
     "text": [
      "30\n"
     ]
    }
   ],
   "source": [
    "# Lambda Function can take any number of arguments\n",
    "\n",
    "x = lambda a, b : a * b\n",
    "print(x(5, 6))"
   ]
  },
  {
   "cell_type": "code",
   "execution_count": null,
   "metadata": {
    "colab": {
     "base_uri": "https://localhost:8080/",
     "height": 36
    },
    "id": "QCrH1pfF6Aip",
    "outputId": "c2cda93d-c390-4454-b19c-52f37bc06e9f"
   },
   "outputs": [
    {
     "name": "stdout",
     "output_type": "stream",
     "text": [
      "15\n"
     ]
    }
   ],
   "source": [
    "# We can also use Lambda Function inside a normal function\n",
    "\n",
    "def func(n):\n",
    "  return lambda a : a * n\n",
    "\n",
    "b = func(5)   # Here 5 is a value = n\n",
    "print(b(3))   # Here 3 is a value = a"
   ]
  },
  {
   "cell_type": "code",
   "execution_count": null,
   "metadata": {
    "colab": {
     "base_uri": "https://localhost:8080/",
     "height": 54
    },
    "id": "KZiANEDO6TXL",
    "outputId": "f96f633f-2e4f-4612-be66-87f183dca15b"
   },
   "outputs": [
    {
     "name": "stdout",
     "output_type": "stream",
     "text": [
      "22\n",
      "33\n"
     ]
    }
   ],
   "source": [
    "def func(n):\n",
    "  return lambda a : a * n\n",
    "\n",
    "one = func(2)     #   = n\n",
    "two = func(3)\n",
    "\n",
    "print(one(11))    #     = a\n",
    "print(two(11))\n"
   ]
  },
  {
   "cell_type": "markdown",
   "metadata": {
    "id": "Gl3WwxHTX3Rs"
   },
   "source": [
    "\n",
    "further ref:https://realpython.com/python-lambda/\n"
   ]
  },
  {
   "cell_type": "code",
   "execution_count": null,
   "metadata": {
    "id": "eTIpdy8tX9gL"
   },
   "outputs": [],
   "source": []
  }
 ],
 "metadata": {
  "colab": {
   "provenance": []
  },
  "kernelspec": {
   "display_name": "Python 3 (ipykernel)",
   "language": "python",
   "name": "python3"
  },
  "language_info": {
   "codemirror_mode": {
    "name": "ipython",
    "version": 3
   },
   "file_extension": ".py",
   "mimetype": "text/x-python",
   "name": "python",
   "nbconvert_exporter": "python",
   "pygments_lexer": "ipython3",
   "version": "3.12.4"
  }
 },
 "nbformat": 4,
 "nbformat_minor": 4
}
