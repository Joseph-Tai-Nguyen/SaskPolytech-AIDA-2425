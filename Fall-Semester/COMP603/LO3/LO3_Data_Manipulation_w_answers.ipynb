{
 "cells": [
  {
   "cell_type": "markdown",
   "metadata": {
    "id": "iEOxELVibmy0"
   },
   "source": [
    "# LO3 - Data Manipulation"
   ]
  },
  {
   "cell_type": "markdown",
   "metadata": {
    "id": "JtDcJTD4bmzA"
   },
   "source": [
    "## Data Storage Types\n",
    "\n",
    "In LO2 we worked with strings and numbers, now we turn out attention to the next logical thing: data structure that allow us to build more complicated functionality.  Python has several built in container types to support most use cases.  They include:\n",
    "1. List\n",
    "2. Tuple\n",
    "3. Dictionary\n",
    "4. Set\n",
    "5. Frozen Set\n",
    "\n",
    "Of these tuple and frozen set are immutable, that is - they can not be changed after they have been created.\n",
    "\n",
    "To create an instance of any of these containers, we call its name as a constructor with no arguments, and we get an empty instance (which is not very useful for immutable types).\n",
    "\n",
    "list()\n",
    "dict()\n",
    "tuple()\n",
    "set()"
   ]
  },
  {
   "cell_type": "markdown",
   "metadata": {
    "id": "yQthyoumbmzB"
   },
   "source": [
    "### Lists\n"
   ]
  },
  {
   "cell_type": "markdown",
   "metadata": {
    "id": "llfuqQRDbmzC"
   },
   "source": [
    "A list is an ordered sequence of zero or more objects, which can be of different types.  It is often created by[] around a comma seperated list of values:"
   ]
  },
  {
   "cell_type": "code",
   "execution_count": 1,
   "metadata": {
    "id": "3VurqlTObmzC"
   },
   "outputs": [],
   "source": [
    "a = ['bacon','ham', 3.14, 4, [10,20,30]]"
   ]
  },
  {
   "cell_type": "code",
   "execution_count": 2,
   "metadata": {
    "id": "ErcPjJGzbmzD"
   },
   "outputs": [],
   "source": [
    "fruit = ['Lime', 'Orange', 'Pear', 'Apple']"
   ]
  },
  {
   "cell_type": "code",
   "execution_count": 3,
   "metadata": {
    "id": "BKNKEMlAhDpd"
   },
   "outputs": [
    {
     "data": {
      "text/plain": [
       "[['ax', 'bx', 'cx', 'dx', 'ex'],\n",
       " ['ay', 'by', 'cy', 'dy', 'ey'],\n",
       " ['az', 'bz', 'cz', 'dz', 'ez']]"
      ]
     },
     "execution_count": 3,
     "metadata": {},
     "output_type": "execute_result"
    }
   ],
   "source": [
    "[['ax', 'bx', 'cx', 'dx', 'ex'], ['ay', 'by', 'cy', 'dy', 'ey'], ['az', 'bz', 'cz', 'dz', 'ez']]"
   ]
  },
  {
   "cell_type": "markdown",
   "metadata": {
    "id": "hj5Se9prbmzE"
   },
   "source": [
    "There are several ways to add or remove items from a list"
   ]
  },
  {
   "cell_type": "code",
   "execution_count": 4,
   "metadata": {
    "id": "C00k-j7CbmzF"
   },
   "outputs": [
    {
     "name": "stdout",
     "output_type": "stream",
     "text": [
      "['Lime', 'Orange', 'Pear', 'Apple', 'Cherry']\n"
     ]
    }
   ],
   "source": [
    "fruit.append('Cherry')\n",
    "print(fruit)"
   ]
  },
  {
   "cell_type": "code",
   "execution_count": 5,
   "metadata": {
    "id": "tOYbup2mbmzF"
   },
   "outputs": [
    {
     "name": "stdout",
     "output_type": "stream",
     "text": [
      "['Lime', 'Orange', 'Mango', 'Pear', 'Apple', 'Cherry']\n"
     ]
    }
   ],
   "source": [
    "fruit.insert(2, 'Mango')\n",
    "print(fruit)"
   ]
  },
  {
   "cell_type": "code",
   "execution_count": 6,
   "metadata": {
    "id": "mkh8PjDybmzG"
   },
   "outputs": [
    {
     "name": "stdout",
     "output_type": "stream",
     "text": [
      "['Lime', 'Orange', 'Mango', 'Pear', 'Apple', 'Cherry', ['Grapes', 'Banana']]\n"
     ]
    }
   ],
   "source": [
    "fruit.append(['Grapes', 'Banana'])\n",
    "print(fruit)"
   ]
  },
  {
   "cell_type": "code",
   "execution_count": 7,
   "metadata": {
    "id": "je9PqU8pbmzG"
   },
   "outputs": [
    {
     "name": "stdout",
     "output_type": "stream",
     "text": [
      "['Lime', 'Orange', 'Mango', 'Pear', 'Apple', 'Cherry', ['Grapes', 'Banana'], 'Cherry', 'Banana']\n"
     ]
    }
   ],
   "source": [
    "fruit.extend(['Cherry', 'Banana'])\n",
    "print(fruit)"
   ]
  },
  {
   "cell_type": "code",
   "execution_count": 8,
   "metadata": {
    "id": "sHwne3zwbmzH"
   },
   "outputs": [
    {
     "name": "stdout",
     "output_type": "stream",
     "text": [
      "['Lime', 'Orange', 'Mango', 'Pear', 'Apple', ['Grapes', 'Banana'], 'Cherry', 'Banana']\n"
     ]
    }
   ],
   "source": [
    "fruit.remove('Cherry')\n",
    "print(fruit)"
   ]
  },
  {
   "cell_type": "code",
   "execution_count": 11,
   "metadata": {
    "id": "C1JsullbbmzH"
   },
   "outputs": [
    {
     "name": "stdout",
     "output_type": "stream",
     "text": [
      "['Lime', 'Orange', 'Pear', 'Apple', ['Grapes', 'Banana']]\n"
     ]
    }
   ],
   "source": [
    "fruit.pop()\n",
    "print(fruit)"
   ]
  },
  {
   "cell_type": "code",
   "execution_count": 10,
   "metadata": {
    "id": "UpG7rYvAbmzI"
   },
   "outputs": [
    {
     "name": "stdout",
     "output_type": "stream",
     "text": [
      "['Lime', 'Orange', 'Pear', 'Apple', ['Grapes', 'Banana'], 'Cherry']\n"
     ]
    }
   ],
   "source": [
    "fruit.pop(2)\n",
    "print(fruit)"
   ]
  },
  {
   "cell_type": "markdown",
   "metadata": {
    "id": "ODZgIJY6bmzI"
   },
   "source": [
    "There are other methods available to gather infomration about the state of the list..."
   ]
  },
  {
   "cell_type": "code",
   "execution_count": 12,
   "metadata": {
    "id": "3BwnHzsUbmzJ"
   },
   "outputs": [
    {
     "data": {
      "text/plain": [
       "5"
      ]
     },
     "execution_count": 12,
     "metadata": {},
     "output_type": "execute_result"
    }
   ],
   "source": [
    "len(fruit)"
   ]
  },
  {
   "cell_type": "code",
   "execution_count": 14,
   "metadata": {
    "id": "oXlEugCQbmzJ"
   },
   "outputs": [
    {
     "data": {
      "text/plain": [
       "True"
      ]
     },
     "execution_count": 14,
     "metadata": {},
     "output_type": "execute_result"
    }
   ],
   "source": [
    "'Apple' in fruit"
   ]
  },
  {
   "cell_type": "code",
   "execution_count": null,
   "metadata": {
    "id": "g_4XTNfLbmzK"
   },
   "outputs": [],
   "source": [
    "'Apple' not in fruit"
   ]
  },
  {
   "cell_type": "code",
   "execution_count": 15,
   "metadata": {
    "id": "4v32t4cEbmzL"
   },
   "outputs": [
    {
     "data": {
      "text/plain": [
       "1"
      ]
     },
     "execution_count": 15,
     "metadata": {},
     "output_type": "execute_result"
    }
   ],
   "source": [
    "fruit.count('Apple')"
   ]
  },
  {
   "cell_type": "code",
   "execution_count": null,
   "metadata": {
    "id": "GpAxpbH4bmzL"
   },
   "outputs": [],
   "source": [
    "fruit.index('Apple')"
   ]
  },
  {
   "cell_type": "code",
   "execution_count": null,
   "metadata": {
    "id": "kSNNPBCdbmzL"
   },
   "outputs": [],
   "source": [
    "fruit.index('Apple',1)"
   ]
  },
  {
   "cell_type": "markdown",
   "metadata": {
    "id": "u9UNEkA1bmzM"
   },
   "source": [
    "## List Comprehension\n",
    "\n",
    "Python makes it easy to work with lists.  One of the most common uses of a list is to iterate over it's elements with a for loop.  This can be accomplished easily with a list comprehension."
   ]
  },
  {
   "cell_type": "code",
   "execution_count": 16,
   "metadata": {
    "id": "TM4TvP3UbmzM"
   },
   "outputs": [
    {
     "name": "stdout",
     "output_type": "stream",
     "text": [
      "[0, 1, 2, 3, 4, 5, 6, 7, 8, 9]\n"
     ]
    }
   ],
   "source": [
    "a = [i for i in range(10)]\n",
    "print(a)"
   ]
  },
  {
   "cell_type": "code",
   "execution_count": 17,
   "metadata": {
    "id": "7Advy_oubmzN"
   },
   "outputs": [
    {
     "name": "stdout",
     "output_type": "stream",
     "text": [
      "[0, 1, 4, 9, 16, 25, 36, 49, 64, 81]\n"
     ]
    }
   ],
   "source": [
    "b = [i**2 for i in range(10)]\n",
    "print(b)"
   ]
  },
  {
   "cell_type": "code",
   "execution_count": 18,
   "metadata": {
    "id": "tVrMY3cibmzN"
   },
   "outputs": [
    {
     "name": "stdout",
     "output_type": "stream",
     "text": [
      "[[0, 0, 0], [1, 1, 1], [2, 4, 8], [3, 9, 27], [4, 16, 64], [5, 25, 125], [6, 36, 216], [7, 49, 343], [8, 64, 512], [9, 81, 729]]\n"
     ]
    }
   ],
   "source": [
    "c = [[i, i**2, i**3] for i in range(10)]\n",
    "print(c)"
   ]
  },
  {
   "cell_type": "code",
   "execution_count": 19,
   "metadata": {
    "id": "eONqUsQhbmzN"
   },
   "outputs": [
    {
     "name": "stdout",
     "output_type": "stream",
     "text": [
      "[[1, 1, 1], [3, 9, 27], [5, 25, 125], [7, 49, 343], [9, 81, 729]]\n"
     ]
    }
   ],
   "source": [
    "d = [[i, i**2, i**3] for i in range(10) if i % 2]\n",
    "print(d)"
   ]
  },
  {
   "cell_type": "markdown",
   "metadata": {
    "id": "1_wuiO9mbmzO"
   },
   "source": [
    "### In Class Exercise\n",
    "\n",
    "Create a list **comprehension** that produces this output: \n",
    "[['ax', 'bx', 'cx', 'dx', 'ex'], ['ay', 'by', 'cy', 'dy', 'ey'], ['az', 'bz', 'cz', 'dz', 'ez']]\n",
    "\n",
    "Please do not using the method we discussed early. \n",
    "\n",
    "Hint - you will have to nest two list comprehension together.\n"
   ]
  },
  {
   "cell_type": "code",
   "execution_count": 20,
   "metadata": {
    "id": "mKVGgG7LbmzO"
   },
   "outputs": [],
   "source": [
    "# Cell is for in class exercise\n",
    "\n",
    "#Remove answer before provideing to students! \n",
    "e = [[i+j for i in 'abcde'] for j in 'xyz']"
   ]
  },
  {
   "cell_type": "markdown",
   "metadata": {
    "id": "rdDE_lBTbmzP"
   },
   "source": [
    "## Sorting and Reordering"
   ]
  },
  {
   "cell_type": "code",
   "execution_count": 21,
   "metadata": {
    "id": "WfXAw0L_bmzP"
   },
   "outputs": [
    {
     "name": "stdout",
     "output_type": "stream",
     "text": [
      "['Lime', 'Orange', 'Pear', 'Apple']\n"
     ]
    }
   ],
   "source": [
    "fruit.remove(['Grapes', 'Banana'])\n",
    "print(fruit)"
   ]
  },
  {
   "cell_type": "code",
   "execution_count": 22,
   "metadata": {
    "id": "sdqlAVlqbmzP"
   },
   "outputs": [
    {
     "name": "stdout",
     "output_type": "stream",
     "text": [
      "['Apple', 'Lime', 'Orange', 'Pear']\n"
     ]
    }
   ],
   "source": [
    "sorted_fruit = sorted(fruit)\n",
    "print(sorted_fruit)"
   ]
  },
  {
   "cell_type": "code",
   "execution_count": 23,
   "metadata": {
    "id": "CehApGW7bmzQ"
   },
   "outputs": [
    {
     "data": {
      "text/plain": [
       "False"
      ]
     },
     "execution_count": 23,
     "metadata": {},
     "output_type": "execute_result"
    }
   ],
   "source": [
    "sorted_fruit == fruit"
   ]
  },
  {
   "cell_type": "code",
   "execution_count": 24,
   "metadata": {
    "id": "PmKKv90xbmzQ"
   },
   "outputs": [
    {
     "data": {
      "text/plain": [
       "True"
      ]
     },
     "execution_count": 24,
     "metadata": {},
     "output_type": "execute_result"
    }
   ],
   "source": [
    "fruit.sort()\n",
    "sorted_fruit == fruit"
   ]
  },
  {
   "cell_type": "markdown",
   "metadata": {
    "id": "OfgZFdmObmzQ"
   },
   "source": [
    "### Reversing a List"
   ]
  },
  {
   "cell_type": "code",
   "execution_count": 25,
   "metadata": {
    "id": "zJHeddz-bmzQ"
   },
   "outputs": [
    {
     "name": "stdout",
     "output_type": "stream",
     "text": [
      "['Pear', 'Orange', 'Lime', 'Apple']\n"
     ]
    }
   ],
   "source": [
    "r_fruit = list(reversed(fruit))\n",
    "print(r_fruit)"
   ]
  },
  {
   "cell_type": "code",
   "execution_count": 26,
   "metadata": {
    "id": "fTD1OILVbmzR"
   },
   "outputs": [
    {
     "name": "stdout",
     "output_type": "stream",
     "text": [
      "['Pear', 'Orange', 'Lime', 'Apple']\n"
     ]
    }
   ],
   "source": [
    "fruit.reverse()\n",
    "print(fruit)"
   ]
  },
  {
   "cell_type": "code",
   "execution_count": 27,
   "metadata": {
    "id": "TqreG6BUbmzR"
   },
   "outputs": [
    {
     "data": {
      "text/plain": [
       "True"
      ]
     },
     "execution_count": 27,
     "metadata": {},
     "output_type": "execute_result"
    }
   ],
   "source": [
    "r_fruit == fruit"
   ]
  },
  {
   "cell_type": "code",
   "execution_count": null,
   "metadata": {
    "id": "ra1lkDm1bmzR"
   },
   "outputs": [],
   "source": [
    "sorted(r_fruit, reverse=True)"
   ]
  },
  {
   "cell_type": "markdown",
   "metadata": {
    "id": "2-F9XSDfbmzS"
   },
   "source": [
    "## Tuples\n",
    "\n",
    "Like a list, a tuple is a ordered sequence of zero or more objects (type agnostic).  Unlike a list, a tuple is immutable which means it can not be modified once created - so it will lack methods such as append, sort, etc"
   ]
  },
  {
   "cell_type": "code",
   "execution_count": 34,
   "metadata": {
    "id": "FTtBtkj-bmzS"
   },
   "outputs": [],
   "source": [
    "a = (1,2,'three, four')"
   ]
  },
  {
   "cell_type": "code",
   "execution_count": 32,
   "metadata": {
    "id": "FazMfVmDbmzS"
   },
   "outputs": [
    {
     "data": {
      "text/plain": [
       "3"
      ]
     },
     "execution_count": 32,
     "metadata": {},
     "output_type": "execute_result"
    }
   ],
   "source": [
    "len(a)"
   ]
  },
  {
   "cell_type": "code",
   "execution_count": 33,
   "metadata": {
    "id": "4nNxqz9DbmzT"
   },
   "outputs": [
    {
     "ename": "TypeError",
     "evalue": "'<' not supported between instances of 'str' and 'int'",
     "output_type": "error",
     "traceback": [
      "\u001b[1;31m---------------------------------------------------------------------------\u001b[0m",
      "\u001b[1;31mTypeError\u001b[0m                                 Traceback (most recent call last)",
      "Cell \u001b[1;32mIn[33], line 1\u001b[0m\n\u001b[1;32m----> 1\u001b[0m \u001b[38;5;28msorted\u001b[39m(a)\n",
      "\u001b[1;31mTypeError\u001b[0m: '<' not supported between instances of 'str' and 'int'"
     ]
    }
   ],
   "source": [
    "sorted(a) #note you can't sort multiple types"
   ]
  },
  {
   "cell_type": "code",
   "execution_count": null,
   "metadata": {
    "id": "pjClowUubmzT"
   },
   "outputs": [],
   "source": [
    "a.index(2)"
   ]
  },
  {
   "cell_type": "code",
   "execution_count": null,
   "metadata": {
    "id": "S4iJoNXWbmzT"
   },
   "outputs": [],
   "source": [
    "a.count(2)"
   ]
  },
  {
   "cell_type": "code",
   "execution_count": null,
   "metadata": {
    "id": "VMuyTlhObmzT"
   },
   "outputs": [],
   "source": [
    "b = '5','6','7' #alternate way of declaring a tuple\n",
    "type(b)"
   ]
  },
  {
   "cell_type": "code",
   "execution_count": null,
   "metadata": {
    "id": "SFsRnH4ZbmzU"
   },
   "outputs": [],
   "source": [
    "c_raw = '1'\n",
    "c_tuple = '1',\n",
    "c_raw == c_tuple"
   ]
  },
  {
   "cell_type": "code",
   "execution_count": null,
   "metadata": {
    "id": "kd0eZDl6bmzU"
   },
   "outputs": [],
   "source": [
    "d_raw = ('d')\n",
    "d_tuple = ('d',)\n",
    "d_raw == d_tuple"
   ]
  },
  {
   "cell_type": "markdown",
   "metadata": {
    "id": "-galefL0bmzU"
   },
   "source": [
    "## Index and Slice Notation\n",
    "\n",
    "While solving real world problems you will often want to grab a subsection of list, or tuple, etc.  In Python, ordered data structure (lists, tuple, str, etc) can be easily sliced and indexed using...the slice and index notation.  Remember indexes in python start at 0."
   ]
  },
  {
   "cell_type": "code",
   "execution_count": null,
   "metadata": {
    "id": "749SAdFbbmzV"
   },
   "outputs": [],
   "source": [
    "animals = ['tiger', 'lions', 'bears', 'monkey', 'human']"
   ]
  },
  {
   "cell_type": "code",
   "execution_count": null,
   "metadata": {
    "id": "I3U4KmE_bmzV"
   },
   "outputs": [],
   "source": [
    "animals[1]"
   ]
  },
  {
   "cell_type": "code",
   "execution_count": null,
   "metadata": {
    "id": "q2EO9lTMbmzV"
   },
   "outputs": [],
   "source": [
    "animals[1] = 'chimp' #pull that up Jamie...\n",
    "print(animals)"
   ]
  },
  {
   "cell_type": "code",
   "execution_count": null,
   "metadata": {
    "id": "OMOa5OTAbmzW"
   },
   "outputs": [],
   "source": [
    "animals[1:3]"
   ]
  },
  {
   "cell_type": "code",
   "execution_count": null,
   "metadata": {
    "id": "fqaz79K9bmzW"
   },
   "outputs": [],
   "source": [
    "animals[:3] #starts at the begining"
   ]
  },
  {
   "cell_type": "code",
   "execution_count": null,
   "metadata": {
    "id": "RcfjBFqTbmzW"
   },
   "outputs": [],
   "source": [
    "animals[2:] #goes to the end"
   ]
  },
  {
   "cell_type": "code",
   "execution_count": null,
   "metadata": {
    "id": "gvpUAyX6bmzX"
   },
   "outputs": [],
   "source": [
    "animals[-2:]"
   ]
  },
  {
   "cell_type": "code",
   "execution_count": null,
   "metadata": {
    "id": "EkkEVi3FbmzX"
   },
   "outputs": [],
   "source": [
    "animals[1:6:2] #optional step parameter"
   ]
  },
  {
   "cell_type": "markdown",
   "metadata": {
    "id": "-z09-XL8bmzX"
   },
   "source": [
    "### In Class Exercise\n",
    "\n",
    "1. Show that using the step funtion of -1 on the animals list is equivalent to using the list and reversed functions on the same list."
   ]
  },
  {
   "cell_type": "code",
   "execution_count": null,
   "metadata": {
    "id": "BbJFj7wobmzY"
   },
   "outputs": [],
   "source": [
    "#Answer - Remove before giving to students\n",
    "animals[::-1] == list(reversed(animals))"
   ]
  },
  {
   "cell_type": "markdown",
   "metadata": {
    "id": "8tMPZSG6bmzY"
   },
   "source": [
    "## Dictionaries\n",
    "\n",
    "A dicitonary houses key - value pairs.  They keys in a dictionary must be immutable and unique.  The values can be of any type.  "
   ]
  },
  {
   "cell_type": "code",
   "execution_count": null,
   "metadata": {
    "id": "7d9dbZhAbmzZ"
   },
   "outputs": [],
   "source": [
    "music = {\"rock\": 11, \"jazz\": 2}\n",
    "music['rap'] = 7\n",
    "del music['jazz']\n",
    "'rock' in music"
   ]
  },
  {
   "cell_type": "code",
   "execution_count": null,
   "metadata": {
    "id": "7clgtvlGbmzZ"
   },
   "outputs": [],
   "source": [
    "'jazz' in music"
   ]
  },
  {
   "cell_type": "code",
   "execution_count": null,
   "metadata": {
    "id": "RAF6nUxobmza"
   },
   "outputs": [],
   "source": [
    "11 in music # can only index on keys"
   ]
  },
  {
   "cell_type": "code",
   "execution_count": null,
   "metadata": {
    "id": "FhX2I4L7bmza"
   },
   "outputs": [],
   "source": [
    "music['rock']"
   ]
  },
  {
   "cell_type": "markdown",
   "metadata": {
    "id": "TDIt58MBbmzb"
   },
   "source": [
    "There are several additonal methods to make Dictionaries easy to work with...3"
   ]
  },
  {
   "cell_type": "code",
   "execution_count": null,
   "metadata": {
    "id": "SLL410Adbmzb"
   },
   "outputs": [],
   "source": [
    "music.items()"
   ]
  },
  {
   "cell_type": "code",
   "execution_count": null,
   "metadata": {
    "id": "X-CL_B2Ibmzb"
   },
   "outputs": [],
   "source": [
    "music.keys()"
   ]
  },
  {
   "cell_type": "code",
   "execution_count": null,
   "metadata": {
    "id": "WaAzbLKabmzc"
   },
   "outputs": [],
   "source": [
    "music.values()"
   ]
  },
  {
   "cell_type": "code",
   "execution_count": null,
   "metadata": {
    "id": "P07hiNPkbmzc"
   },
   "outputs": [],
   "source": [
    "music.get('rock')"
   ]
  },
  {
   "cell_type": "code",
   "execution_count": null,
   "metadata": {
    "id": "a_2Xqqwlbmzc"
   },
   "outputs": [],
   "source": [
    "music.get('rock')"
   ]
  },
  {
   "cell_type": "code",
   "execution_count": null,
   "metadata": {
    "id": "7vhPjvLkbmzd"
   },
   "outputs": [],
   "source": [
    "music.clear()\n",
    "print(music)"
   ]
  },
  {
   "cell_type": "markdown",
   "metadata": {
    "id": "g1s9Tb8Qbmzd"
   },
   "source": [
    "## Sets\n",
    "\n",
    "A set is a data structure that can only contain unique objects.  Adding something that already exists in a set does nothing (but also does not cause an error)"
   ]
  },
  {
   "cell_type": "code",
   "execution_count": null,
   "metadata": {
    "id": "V1zRTqCUbmzd"
   },
   "outputs": [],
   "source": [
    "numbers = set([1,1,1,1,1,3,3,3,3,3,2,2,2,2,3,3,3,4])\n",
    "letters = set('TheQuickBrownFoxJumpedOverTheLazyDog'.lower())\n",
    "numbers.add(4)\n",
    "print(numbers)"
   ]
  },
  {
   "cell_type": "code",
   "execution_count": null,
   "metadata": {
    "id": "C3HETxCsbmze"
   },
   "outputs": [],
   "source": [
    "numbers.add(5)\n",
    "print(numbers)"
   ]
  },
  {
   "cell_type": "code",
   "execution_count": null,
   "metadata": {
    "id": "27BPrzKxbmze"
   },
   "outputs": [],
   "source": [
    "numbers.update([3,4,5,6,7])\n",
    "print(numbers)"
   ]
  },
  {
   "cell_type": "code",
   "execution_count": null,
   "metadata": {
    "id": "6MNlM29pbmze"
   },
   "outputs": [],
   "source": [
    "numbers.pop()"
   ]
  },
  {
   "cell_type": "code",
   "execution_count": null,
   "metadata": {
    "id": "m0lqsc_cbmze"
   },
   "outputs": [],
   "source": [
    "print(numbers)"
   ]
  },
  {
   "cell_type": "code",
   "execution_count": null,
   "metadata": {
    "id": "Cc0Jh00jbmzf"
   },
   "outputs": [],
   "source": [
    "numbers.remove(7)"
   ]
  },
  {
   "cell_type": "code",
   "execution_count": null,
   "metadata": {
    "id": "rXR4eTgXbmzf"
   },
   "outputs": [],
   "source": [
    "print(numbers)"
   ]
  },
  {
   "cell_type": "markdown",
   "metadata": {
    "id": "0CZgvfgQbmzf"
   },
   "source": [
    "You can do Union, Intersection, and symmetric difference on sets..."
   ]
  },
  {
   "cell_type": "code",
   "execution_count": null,
   "metadata": {
    "id": "Q0UVfxXZbmzg"
   },
   "outputs": [],
   "source": [
    "house_pets = {'dog', 'cat', 'fish'}\n",
    "farm_animals = {'cow', 'sheep', 'pig', 'dog', 'cat'}\n",
    "\n",
    "house_pets & farm_animals"
   ]
  },
  {
   "cell_type": "code",
   "execution_count": null,
   "metadata": {
    "id": "2YjEwtHibmzg"
   },
   "outputs": [],
   "source": [
    "house_pets | farm_animals"
   ]
  },
  {
   "cell_type": "code",
   "execution_count": null,
   "metadata": {
    "id": "GAlnhu8Xbmzg"
   },
   "outputs": [],
   "source": [
    "house_pets ^ farm_animals # symmetric difference"
   ]
  },
  {
   "cell_type": "code",
   "execution_count": null,
   "metadata": {
    "id": "C4Uc1wS_bmzh"
   },
   "outputs": [],
   "source": [
    "house_pets - farm_animals # asymmetric difference"
   ]
  },
  {
   "cell_type": "markdown",
   "metadata": {
    "id": "6UcjgsYUbmzh"
   },
   "source": [
    "### In Class Exercise\n",
    "\n",
    "1. If we list all the natural numbers below 10 that are multiples of 3 or 5, we get 3,5,6 and 9.  The sum of these mutliples is 23.  Find the sum of all the multiples between 3 or 5 below 1000."
   ]
  },
  {
   "cell_type": "code",
   "execution_count": null,
   "metadata": {
    "id": "At0Ncxpubmzh"
   },
   "outputs": [],
   "source": [
    "# Cell for in class exercise - remove answer before giving to students\n",
    "\n",
    "sum = 0\n",
    "\n",
    "for i in range(1000):\n",
    "    if i%3 == 0 or i%5 == 0:\n",
    "            sum += i\n",
    "            print(i)\n",
    "            \n",
    "print(sum)"
   ]
  },
  {
   "cell_type": "markdown",
   "metadata": {
    "id": "ERZWEULQbmzi"
   },
   "source": [
    "## File IO\n",
    "\n",
    "Easy to do in Python!"
   ]
  },
  {
   "cell_type": "code",
   "execution_count": null,
   "metadata": {
    "id": "YNjAP8UIbmzj"
   },
   "outputs": [],
   "source": [
    "myfile = open('data.txt', 'w')\n",
    "myfile.write(\"writing data to file\")\n",
    "myfile.close()"
   ]
  },
  {
   "cell_type": "markdown",
   "metadata": {
    "id": "bUPM1nC8bmzj"
   },
   "source": [
    "data.txt should be saved to the folder from where you are running this note book - go check!\n",
    "\n",
    "Note - opening a file that already exists will erase the original file!\n",
    "\n",
    "There are only a few modes which are commonly used\n",
    "1. w - writing\n",
    "2. r - reading\n",
    "3. a - appending\n",
    "4. r+ - reading and writing\n",
    "5. b - binary mode"
   ]
  },
  {
   "cell_type": "markdown",
   "metadata": {
    "id": "zvJTQvcnbmzk"
   },
   "source": [
    "### File-like Objects\n",
    "\n",
    "With the amount of RAM available in modern computers there could be a big performance gain in your applicaiton by using a file-like object.3"
   ]
  },
  {
   "cell_type": "code",
   "execution_count": null,
   "metadata": {
    "id": "oVKPjcODbmzl"
   },
   "outputs": [],
   "source": [
    "import io\n",
    "mystringfile = io.StringIO()\n",
    "mystringfile.write(\"This is my data!\")\n",
    "mystringfile.read() # cursor is at the end!3"
   ]
  },
  {
   "cell_type": "code",
   "execution_count": null,
   "metadata": {
    "id": "WkKdagFsbmzl"
   },
   "outputs": [],
   "source": [
    "mystringfile.seek(0) # put the cursor back at the start\n",
    "mystringfile.read()"
   ]
  },
  {
   "cell_type": "markdown",
   "metadata": {
    "id": "TxuFIqo7bmzm"
   },
   "source": [
    "### In Class Exercise\n",
    "\n",
    "Write a word count funtion that takes a text file and returns a dictionary that contains the count for each word.  Remove all punctuation except apostrophe.  Lowercase all words."
   ]
  },
  {
   "cell_type": "code",
   "execution_count": null,
   "metadata": {
    "id": "8YXvq4Kcbmzm"
   },
   "outputs": [],
   "source": [
    "# Cell is for all In Class Exercise\n",
    "\n",
    "\n",
    "#Remove answer before giving to students\n",
    "myfile = open('data.txt', 'r')\n",
    "\n",
    "mydata = myfile.read()\n",
    "mydict = {}\n",
    "\n",
    "for i in mydata.split():\n",
    "    if i in mydict:\n",
    "        mydict[i] += 1\n",
    "    else:\n",
    "        mydict[i] = 1\n",
    "        \n",
    "    \n",
    "print(mydict)"
   ]
  },
  {
   "cell_type": "markdown",
   "metadata": {
    "id": "4FKS9_NXbmzn"
   },
   "source": [
    "## Functional Programming\n",
    "\n",
    "At a basic level there are two types of programming paradigms:\n",
    "1. imperative or procedural programming (everything in this course so far)\n",
    "2. declarative or functional programming\n",
    "\n",
    "Imperative programming focuses on telling a computer how to change a program's state step by step.  Most programming is this paragdigm.  It's tightly aligned to how a computer actually works physically.  These instructions can be organized into functions and objects, but both of these improvements remain imperative at heart.\n",
    "\n",
    "Declarative programming, focuses on expressing what the program should do - not necessarily how it should be done.  Funcitonal programming is the most common style of declarative programming.  It treats a program as if it is made up of mathematical style functions: for a give input, x, applying function f will always give you the same output f(x), and x itself will remain unchanged afterwards.\n",
    "\n",
    "The primary distinction between procedural and functional programming is: a procedural function may have side effect - it may change the state of it's inputs or something outside of itself, giving you a different result when you run it a second time.  Functional programming avoids side effects, ensuring that functions don't modify anything outside of themselves.\n",
    "\n",
    "### An Example\n",
    "\n",
    "The below funtion is NOT functional:"
   ]
  },
  {
   "cell_type": "code",
   "execution_count": null,
   "metadata": {
    "id": "Z4GjoNaubmzo"
   },
   "outputs": [],
   "source": [
    "a = 0\n",
    "def increment():\n",
    "    global a\n",
    "    a += 1\n",
    "    \n",
    "print(a)\n",
    "\n",
    "increment()\n",
    "\n",
    "print(a)"
   ]
  },
  {
   "cell_type": "markdown",
   "metadata": {
    "id": "sXUL35Jgbmzp"
   },
   "source": [
    "This function is functional"
   ]
  },
  {
   "cell_type": "code",
   "execution_count": null,
   "metadata": {
    "id": "5P3Rgjenbmzp"
   },
   "outputs": [],
   "source": [
    "def increment(a):\n",
    "    return a + 1"
   ]
  },
  {
   "cell_type": "markdown",
   "metadata": {
    "id": "2tsImKe4bmzp"
   },
   "source": [
    "## Map Reduce\n",
    "\n",
    "A map is a function that takes two arguments: another function and a collection of items.  It will:\n",
    "1. Run the function on each item of the original collection\n",
    "2. Return a new collection containing the results\n",
    "3. Leave the original collection unchanged\n",
    "\n",
    "In Python the collection must simply be iterable (list, tuple, string)"
   ]
  },
  {
   "cell_type": "code",
   "execution_count": null,
   "metadata": {
    "id": "PRf-SNkZbmzv"
   },
   "outputs": [],
   "source": [
    "#Example 1: String Lengths\n",
    "string_lengths = map(len, [\"dog\", \"cat\", \"zebra\", \"turtle\"])\n",
    "print(list(string_lengths))"
   ]
  },
  {
   "cell_type": "markdown",
   "metadata": {
    "id": "Nj2WeNo0bmzv"
   },
   "source": [
    "Example 2: Cubing"
   ]
  },
  {
   "cell_type": "code",
   "execution_count": null,
   "metadata": {
    "id": "of218sGQiWjb"
   },
   "outputs": [],
   "source": [
    "cubes = map(lambda x: x**3, [0,1,2,3,4])\n",
    "print(list(cubes))"
   ]
  },
  {
   "cell_type": "markdown",
   "metadata": {
    "id": "Ythc2TfMbmzw"
   },
   "source": [
    "## Lambdas\n",
    "\n",
    "A Lambda lets you define and use an unnamed function.  Arguments fit between the lambda and the colon while the stuff after the colon gets implicity returned (ie without an explicit return statement)\n",
    "\n",
    "Lambdas are most useful when:\n",
    "1. your function is simple\n",
    "2. you only need to use it once\n",
    "\n",
    "Consider the usual way:"
   ]
  },
  {
   "cell_type": "code",
   "execution_count": null,
   "metadata": {
    "id": "L5y1OguUbmzw"
   },
   "outputs": [],
   "source": [
    "def cube(x):\n",
    "    return x**3\n",
    "\n",
    "print(cube(4))"
   ]
  },
  {
   "cell_type": "code",
   "execution_count": null,
   "metadata": {
    "id": "W13po8NVbmzx"
   },
   "outputs": [],
   "source": [
    "# we could have done this instead\n",
    "cubes = map(cube, [0,1,2,3,4])\n",
    "print(list(cubes))"
   ]
  },
  {
   "cell_type": "markdown",
   "metadata": {
    "id": "EaccLcnCbmzx"
   },
   "source": [
    "### In Class Exercise\n",
    "\n",
    "Write a lambda to add 5 to a list of numbers"
   ]
  },
  {
   "cell_type": "code",
   "execution_count": null,
   "metadata": {
    "id": "z2XC98VEbmzx"
   },
   "outputs": [],
   "source": [
    "#Remove before handing out to students\n",
    "func = lambda x: x+5\n",
    "print(list(map(func, [1,2,3,4,5,6])))"
   ]
  },
  {
   "cell_type": "markdown",
   "metadata": {
    "id": "ARZLOo8Ybmzy"
   },
   "source": [
    "Now back to map - Here is a procedural way to take a list of real names and assign them a random code name"
   ]
  },
  {
   "cell_type": "code",
   "execution_count": null,
   "metadata": {
    "id": "Zx8gDdCZbmzy"
   },
   "outputs": [],
   "source": [
    "import random\n",
    "\n",
    "names = ['Jared', 'Gavin', 'Walter', 'Mike', 'Brett', 'Hugh']\n",
    "code_names = ['Eagle', 'Hawk', 'Seagull', 'Heron', 'Sparrow', 'Raven']\n",
    "\n",
    "for i in range(len(names)):\n",
    "    names[i] = random.choice(code_names)\n",
    "\n",
    "print(names)"
   ]
  },
  {
   "cell_type": "markdown",
   "metadata": {
    "id": "gj7rk460bmzy"
   },
   "source": [
    "### In Class Exercise\n",
    "\n",
    "Rewrite the above function functionally (use map and lambda)"
   ]
  },
  {
   "cell_type": "code",
   "execution_count": null,
   "metadata": {
    "id": "DdDTGoHxbmzz"
   },
   "outputs": [],
   "source": [
    "#Remove before supplying to students\n",
    "\n",
    "names = ['Jared', 'Gavin', 'Walter', 'Mike', 'Brett', 'Hugh']\n",
    "\n",
    "covernames = map(lambda x: random.choice(['Eagle', 'Hawk', 'Seagull', 'Heron', 'Sparrow', 'Raven']), names)\n",
    "                 \n",
    "print(list(covernames))"
   ]
  },
  {
   "cell_type": "markdown",
   "metadata": {
    "id": "od27CmE2bmzz"
   },
   "source": [
    "## Reduce\n",
    "\n",
    "Reduce is a counter part to map.  Given a funciton and a collection of items, it uses the function to combine then into a single value and returns that result.\n",
    "\n",
    "The function passed to reduce has some restictions.  It must take two arguments: an accumulator and an update value.  The update value is like it was before with map; it will get set to each item in the collection one by one.  The accumulator is new.  It recieves the output from the previous function call, thus \"accumulating\" the combined value from item to item through the collection."
   ]
  },
  {
   "cell_type": "code",
   "execution_count": null,
   "metadata": {
    "id": "Sq6jv3ipbmzz"
   },
   "outputs": [],
   "source": [
    "import functools\n",
    "sum = functools.reduce(lambda a, x: a + x, [0,1,2,3,4])\n",
    "print(sum)"
   ]
  },
  {
   "cell_type": "code",
   "execution_count": null,
   "metadata": {
    "id": "MIM3wUGSbmzz"
   },
   "outputs": [],
   "source": []
  }
 ],
 "metadata": {
  "colab": {
   "provenance": []
  },
  "kernelspec": {
   "display_name": "Python 3 (ipykernel)",
   "language": "python",
   "name": "python3"
  },
  "language_info": {
   "codemirror_mode": {
    "name": "ipython",
    "version": 3
   },
   "file_extension": ".py",
   "mimetype": "text/x-python",
   "name": "python",
   "nbconvert_exporter": "python",
   "pygments_lexer": "ipython3",
   "version": "3.11.5"
  }
 },
 "nbformat": 4,
 "nbformat_minor": 1
}
